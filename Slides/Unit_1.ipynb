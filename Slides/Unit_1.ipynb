{
 "metadata": {
  "name": ""
 },
 "nbformat": 3,
 "nbformat_minor": 0,
 "worksheets": [
  {
   "cells": [
    {
     "cell_type": "heading",
     "level": 1,
     "metadata": {
      "slideshow": {
       "slide_type": "slide"
      }
     },
     "source": [
      "Intro to CS - How to Think like a Computer Scientist"
     ]
    },
    {
     "cell_type": "markdown",
     "metadata": {
      "slideshow": {
       "slide_type": "slide"
      }
     },
     "source": [
      "# ~~First~~ Second Day Survey\n",
      "\n",
      "##http://svy.mk/1a4m8fr\n"
     ]
    },
    {
     "cell_type": "markdown",
     "metadata": {
      "slideshow": {
       "slide_type": "skip"
      }
     },
     "source": [
      "# What is Computer Science?\n",
      "Computer Science is a combination of \n",
      "\n",
      "* **Mathematics** -- we use formal languages\n",
      "* **Engineering** -- we build large-scale systems\n",
      "* **Natural Science** -- we form hypotheses, and test predictions\n",
      "\n",
      "The single most important skill for a computer scientist is **problem solving**\n"
     ]
    },
    {
     "cell_type": "markdown",
     "metadata": {
      "slideshow": {
       "slide_type": "slide"
      }
     },
     "source": [
      "# Different Kinds of Programming Languages\n",
      "\n",
      "You will learn to program in a language called Python. \n",
      "\n",
      "Python is a **high level** programming language. Other **high level** programming languages are \n",
      "\n",
      "* Ruby\n",
      "* C++\n",
      "* Perl\n",
      "* many more...\n",
      "\n",
      "There are also **low-level languages**, sometimes called \u201cmachine languages\u201d or \u201cassembly languages.\u201d Computers can only run programs written in low-level languages.\n",
      "\n",
      "High-Level Language -> [some computer program] ->  Low-Level Language"
     ]
    },
    {
     "cell_type": "code",
     "collapsed": false,
     "input": [
      "print \"hello world\""
     ],
     "language": "python",
     "metadata": {
      "slideshow": {
       "slide_type": "subslide"
      }
     },
     "outputs": [
      {
       "output_type": "stream",
       "stream": "stdout",
       "text": [
        "hello world\n"
       ]
      }
     ],
     "prompt_number": 1
    },
    {
     "cell_type": "code",
     "collapsed": false,
     "input": [
      "; Uses S-C Assembler variant.\n",
      "; .or is origin\n",
      "; .as is ASCII String\n",
      "; .hs is Hex String\n",
      "        .or $300\n",
      "main    ldy #$00\n",
      ".1      lda str,y\n",
      "        beq .2\n",
      "        jsr $fded ; ROM routine, COUT, y is preserved\n",
      "        iny\n",
      "        bne .1\n",
      ".2      rts\n",
      "str     .as \"HELLO WORLD\"\n",
      "        .hs 0D00"
     ],
     "language": "python",
     "metadata": {
      "slideshow": {
       "slide_type": "subslide"
      }
     },
     "outputs": []
    },
    {
     "cell_type": "markdown",
     "metadata": {
      "slideshow": {
       "slide_type": "subslide"
      }
     },
     "source": [
      "## Benefits of High Level Programming Languages\n",
      "\n",
      "* **Easier** Programs are shorter, easier to read and more likely to be correct\n",
      "* **Portable** Programs written in a high-level language can be run on different kinds of computers\n",
      "\n",
      "\n",
      "\n",
      "#### Almost all programs are written in high-level languages"
     ]
    },
    {
     "cell_type": "markdown",
     "metadata": {
      "slideshow": {
       "slide_type": "slide"
      }
     },
     "source": [
      "# Compilers v.s. Interpreters\n",
      "\n",
      "There are two kinds of programs that process high-level languages into low-level languages: **compilers** and **interpreters**\n"
     ]
    },
    {
     "cell_type": "markdown",
     "metadata": {
      "slideshow": {
       "slide_type": "subslide"
      }
     },
     "source": [
      "## Compiler\n",
      "\n",
      "A **compiler** reads the program and translates it completely before the program starts running. Once a program is **compiled**, you can execute it repeatedly without further translation. \n",
      "\n",
      "![](http://www.greenteapress.com/thinkpython/thinkCSpy/html/illustrations/compile.png)\n",
      "\n",
      "\n"
     ]
    },
    {
     "cell_type": "markdown",
     "metadata": {
      "slideshow": {
       "slide_type": "subslide"
      }
     },
     "source": [
      "## Interpreters\n",
      "\n",
      "An **interpreter** reads a high-level program and executes it line by line, alternately reading lines and performing computations.\n",
      "\n",
      "![](http://www.greenteapress.com/thinkpython/thinkCSpy/html/illustrations/interpret.png)\n"
     ]
    },
    {
     "cell_type": "markdown",
     "metadata": {
      "slideshow": {
       "slide_type": "fragment"
      }
     },
     "source": [
      "\n",
      "### Python is an interpreted language!\n"
     ]
    },
    {
     "cell_type": "markdown",
     "metadata": {
      "slideshow": {
       "slide_type": "slide"
      }
     },
     "source": [
      "# How to Run Python Code\n",
      "\n",
      "There are two ways to run Python code: **interactive mode** and **script mode**. \n",
      "\n"
     ]
    },
    {
     "cell_type": "markdown",
     "metadata": {
      "slideshow": {
       "slide_type": "fragment"
      }
     },
     "source": [
      "## Interactive Mode\n",
      "In interactive mode, you type Python programs and the interpreter displays the result:\n",
      "\n",
      "\\>>> 1 + 1\n",
      "\n",
      "2\n",
      "\n",
      "The chevron, >>>, is the **prompt** the interpreter uses to indicate that it is ready.\n"
     ]
    },
    {
     "cell_type": "markdown",
     "metadata": {
      "slideshow": {
       "slide_type": "fragment"
      }
     },
     "source": [
      "## Script Mode\n",
      "In script mode, you store the code in a file that ends with \".py\". \n",
      "\n",
      "Suppose you wrote code in a file called ***first_program.py***. To execute the code in the file, you would type ***python first_program.py*** in a UNIX command window."
     ]
    },
    {
     "cell_type": "markdown",
     "metadata": {
      "slideshow": {
       "slide_type": "fragment"
      }
     },
     "source": [
      "### You should save your code as a script if you are writing anything more than a few lines"
     ]
    },
    {
     "cell_type": "markdown",
     "metadata": {
      "slideshow": {
       "slide_type": "slide"
      }
     },
     "source": [
      "# Try out interactive mode\n"
     ]
    },
    {
     "cell_type": "markdown",
     "metadata": {
      "slideshow": {
       "slide_type": "subslide"
      }
     },
     "source": [
      "###**Available Functions:**\n",
      "- \\+  (addition)\n",
      "- \\-  (subtraction)\n",
      "- \\*  (multiplication) \n",
      "- /  (division)\n",
      "- \\**  (exponentiation) \n",
      "\n",
      "\n",
      "###Order of operations apply. Remember PEMDAS? \n",
      "\n",
      "* What is 5+8/2\\**2? "
     ]
    },
    {
     "cell_type": "code",
     "collapsed": false,
     "input": [
      "5+8/2**2"
     ],
     "language": "python",
     "metadata": {
      "slideshow": {
       "slide_type": "fragment"
      }
     },
     "outputs": [
      {
       "metadata": {},
       "output_type": "pyout",
       "prompt_number": 7,
       "text": [
        "7"
       ]
      }
     ],
     "prompt_number": 7
    },
    {
     "cell_type": "code",
     "collapsed": false,
     "input": [
      "5+(8/(2**2))"
     ],
     "language": "python",
     "metadata": {
      "slideshow": {
       "slide_type": "fragment"
      }
     },
     "outputs": [
      {
       "metadata": {},
       "output_type": "pyout",
       "prompt_number": 8,
       "text": [
        "7"
       ]
      }
     ],
     "prompt_number": 8
    },
    {
     "cell_type": "markdown",
     "metadata": {
      "slideshow": {
       "slide_type": "subslide"
      }
     },
     "source": [
      "###**Available Functions:**\n",
      "- \\+  (addition)\n",
      "- \\-  (subtraction)\n",
      "- \\*  (multiplication) \n",
      "- /  (division)\n",
      "- \\**  (exponentiation) \n",
      "\n",
      "## Problem: \n",
      "\n",
      "You've finished eating at a restaurant, and received this bill:\n",
      "\n",
      "Cost of meal: $44.50\n",
      "Restaurant tax: 6.75%\n",
      "Tip: 15%\n",
      "    \n",
      "You'll apply the tip to the overall cost of the meal (including tax). What is the final total cost?"
     ]
    },
    {
     "cell_type": "code",
     "collapsed": false,
     "input": [
      "(44.50 * 1.0675) * 1.15"
     ],
     "language": "python",
     "metadata": {
      "slideshow": {
       "slide_type": "fragment"
      }
     },
     "outputs": [
      {
       "metadata": {},
       "output_type": "pyout",
       "prompt_number": 14,
       "text": [
        "54.62931249999999"
       ]
      }
     ],
     "prompt_number": 14
    },
    {
     "cell_type": "code",
     "collapsed": false,
     "input": [
      "# New Function: round(number, decimal_places)\n",
      "# How do you get documentation online?\n",
      "\n",
      "round((44.50 * 1.0675) * 1.15, 4)"
     ],
     "language": "python",
     "metadata": {
      "slideshow": {
       "slide_type": "fragment"
      }
     },
     "outputs": [
      {
       "metadata": {},
       "output_type": "pyout",
       "prompt_number": 21,
       "text": [
        "54.6293"
       ]
      }
     ],
     "prompt_number": 21
    },
    {
     "cell_type": "markdown",
     "metadata": {
      "slideshow": {
       "slide_type": "slide"
      }
     },
     "source": [
      "# What is a program?\n",
      "\n",
      "A **program** is a sequence of instructions that specifies how to perform a computation.\n",
      "\n",
      "Examples of what a program might do: \n",
      "\n",
      "* To help you out in math class ...\n",
      "* At the New York Times ...\n",
      "* At Etsy ...\n",
      "* At Google ..."
     ]
    },
    {
     "cell_type": "markdown",
     "metadata": {
      "slideshow": {
       "slide_type": "subslide"
      }
     },
     "source": [
      "## What makes up a program?\n",
      "\n",
      "A few basic instructions appear in just about every language:\n",
      "\n",
      "* **input**: Get data from the keyboard, a file, or some other device.\n",
      "* **output**: Display data on the screen or send data to a file or other device.\n",
      "* **math**: Perform basic mathematical operations like addition and multiplication. \n",
      "* **conditional execution**: Check for certain conditions and execute the appropriate code. \n",
      "* **repetition**: Perform some action repeatedly, usually with some variation."
     ]
    },
    {
     "cell_type": "markdown",
     "metadata": {
      "slideshow": {
       "slide_type": "fragment"
      }
     },
     "source": [
      "## And that's basically it!"
     ]
    },
    {
     "cell_type": "markdown",
     "metadata": {
      "slideshow": {
       "slide_type": "slide"
      }
     },
     "source": [
      "# Your first program"
     ]
    },
    {
     "cell_type": "markdown",
     "metadata": {
      "slideshow": {
       "slide_type": "slide"
      }
     },
     "source": [
      "# Debugging\n",
      "\n",
      "Programmers make errors *all the time*.\n",
      "\n",
      "Programming errors are called **bugs** and the process of finding them is called **debugging**. \n",
      "\n",
      "\n",
      "![Computer Bug](http://upload.wikimedia.org/wikipedia/commons/8/8a/H96566k.jpg)"
     ]
    },
    {
     "cell_type": "markdown",
     "metadata": {
      "slideshow": {
       "slide_type": "subslide"
      }
     },
     "source": [
      "#Syntax Errors \n",
      "\n",
      "* **Syntax** refers to the structure of a program and the rules about that structure.\n",
      "    * **Example:** (1 + 2) is legal, but (1 is not legal\n",
      "\n",
      "* You can think of syntax like grammar in English. \n",
      "    * **Example:** \"What are you eating?\" is legal but \"What are you eating.\" is not legal\n",
      "    \n",
      "### If there is 1 syntax error, Python will give you an error message and quit\n"
     ]
    },
    {
     "cell_type": "markdown",
     "metadata": {
      "slideshow": {
       "slide_type": "subslide"
      }
     },
     "source": [
      "# Runtime Errors\n",
      "\n",
      "**Runtime Errors** do not appear until after the program has started running. \n",
      "\n",
      "* These errors are also called **exceptions** because they usually indicate that something exceptional (and bad) has happened.\n",
      "* **Example**: During the execution of a program, you ask the computer to do 8/0"
     ]
    },
    {
     "cell_type": "markdown",
     "metadata": {
      "slideshow": {
       "slide_type": "subslide"
      }
     },
     "source": [
      "## Semantic Errors\n",
      "\n",
      "If your program has **semantic errors**, you will be able to run it without getting any error messages, but it will not do the right thing. It will do something else.\n",
      "\n",
      "* English can be semantically ambiguous:\n",
      "    * \"Children make nutritious snacks.\"\n",
      "    * \"The thief was sentenced to six months in the violin case.\"\n",
      "    \n",
      "    \n",
      "* Or semantically nonsense:\n",
      "    * \"Colourless green ideas sleep furiously.\"\n"
     ]
    },
    {
     "cell_type": "markdown",
     "metadata": {
      "slideshow": {
       "slide_type": "slide"
      }
     },
     "source": [
      "# Formal and natural languages"
     ]
    },
    {
     "cell_type": "code",
     "collapsed": false,
     "input": [],
     "language": "python",
     "metadata": {
      "slideshow": {
       "slide_type": "slide"
      }
     },
     "outputs": []
    },
    {
     "cell_type": "code",
     "collapsed": false,
     "input": [],
     "language": "python",
     "metadata": {},
     "outputs": []
    },
    {
     "cell_type": "code",
     "collapsed": false,
     "input": [
      "x=5\n",
      "x+5"
     ],
     "language": "python",
     "metadata": {
      "slideshow": {
       "slide_type": "slide"
      }
     },
     "outputs": [
      {
       "metadata": {},
       "output_type": "pyout",
       "prompt_number": 5,
       "text": [
        "10"
       ]
      }
     ],
     "prompt_number": 5
    },
    {
     "cell_type": "code",
     "collapsed": false,
     "input": [],
     "language": "python",
     "metadata": {},
     "outputs": []
    }
   ],
   "metadata": {}
  }
 ]
}