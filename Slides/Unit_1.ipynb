{
 "metadata": {
  "name": ""
 },
 "nbformat": 3,
 "nbformat_minor": 0,
 "worksheets": [
  {
   "cells": [
    {
     "cell_type": "heading",
     "level": 1,
     "metadata": {
      "slideshow": {
       "slide_type": "slide"
      }
     },
     "source": [
      "Intro to CS - How to Think like a Computer Scientist"
     ]
    },
    {
     "cell_type": "markdown",
     "metadata": {
      "slideshow": {
       "slide_type": "slide"
      }
     },
     "source": [
      "# ~~First~~ Second Day Survey\n",
      "\n",
      "##http://svy.mk/1a4m8fr\n"
     ]
    },
    {
     "cell_type": "markdown",
     "metadata": {
      "slideshow": {
       "slide_type": "skip"
      }
     },
     "source": [
      "# What is Computer Science?\n",
      "Computer Science is a combination of \n",
      "\n",
      "* **Mathematics** -- we use formal languages\n",
      "* **Engineering** -- we build large-scale systems\n",
      "* **Natural Science** -- we form hypotheses, and test predictions\n",
      "\n",
      "The single most important skill for a computer scientist is **problem solving**\n"
     ]
    },
    {
     "cell_type": "markdown",
     "metadata": {
      "slideshow": {
       "slide_type": "slide"
      }
     },
     "source": [
      "# Different Kinds of Programming Languages\n",
      "\n",
      "You will learn to program in a language called Python. \n",
      "\n",
      "Python is a **high level** programming language. Other **high level** programming languages are \n",
      "\n",
      "* Ruby\n",
      "* C++\n",
      "* Perl\n",
      "* many more...\n",
      "\n",
      "There are also **low-level languages**, sometimes called \u201cmachine languages\u201d or \u201cassembly languages.\u201d Computers can only run programs written in low-level languages.\n",
      "\n",
      "High-Level Language -> [some computer program] ->  Low-Level Language"
     ]
    },
    {
     "cell_type": "code",
     "collapsed": false,
     "input": [
      "print \"hello world\""
     ],
     "language": "python",
     "metadata": {
      "slideshow": {
       "slide_type": "subslide"
      }
     },
     "outputs": [
      {
       "output_type": "stream",
       "stream": "stdout",
       "text": [
        "hello world\n"
       ]
      }
     ],
     "prompt_number": 1
    },
    {
     "cell_type": "code",
     "collapsed": false,
     "input": [
      "; Uses S-C Assembler variant.\n",
      "; .or is origin\n",
      "; .as is ASCII String\n",
      "; .hs is Hex String\n",
      "        .or $300\n",
      "main    ldy #$00\n",
      ".1      lda str,y\n",
      "        beq .2\n",
      "        jsr $fded ; ROM routine, COUT, y is preserved\n",
      "        iny\n",
      "        bne .1\n",
      ".2      rts\n",
      "str     .as \"HELLO WORLD\"\n",
      "        .hs 0D00"
     ],
     "language": "python",
     "metadata": {
      "slideshow": {
       "slide_type": "subslide"
      }
     },
     "outputs": []
    },
    {
     "cell_type": "markdown",
     "metadata": {
      "slideshow": {
       "slide_type": "subslide"
      }
     },
     "source": [
      "## Benefits of High Level Programming Languages\n",
      "\n",
      "* **Easier** Programs are shorter, easier to read and more likely to be correct\n",
      "* **Portable** Programs written in a high-level language can be run on different kinds of computers\n",
      "\n",
      "\n",
      "\n",
      "#### Almost all programs are written in high-level languages"
     ]
    },
    {
     "cell_type": "markdown",
     "metadata": {
      "slideshow": {
       "slide_type": "slide"
      }
     },
     "source": [
      "# Compilers v.s. Interpreters\n",
      "\n",
      "There are two kinds of programs that process high-level languages into low-level languages: **compilers** and **interpreters**\n"
     ]
    },
    {
     "cell_type": "markdown",
     "metadata": {
      "slideshow": {
       "slide_type": "subslide"
      }
     },
     "source": [
      "## Compiler\n",
      "\n",
      "A **compiler** reads the program and translates it completely before the program starts running. Once a program is **compiled**, you can execute it repeatedly without further translation. \n",
      "\n",
      "![](http://www.greenteapress.com/thinkpython/thinkCSpy/html/illustrations/compile.png)\n",
      "\n",
      "\n"
     ]
    },
    {
     "cell_type": "markdown",
     "metadata": {
      "slideshow": {
       "slide_type": "subslide"
      }
     },
     "source": [
      "## Interpreters\n",
      "\n",
      "An **interpreter** reads a high-level program and executes it line by line, alternately reading lines and performing computations.\n",
      "\n",
      "![](http://www.greenteapress.com/thinkpython/thinkCSpy/html/illustrations/interpret.png)\n"
     ]
    },
    {
     "cell_type": "markdown",
     "metadata": {
      "slideshow": {
       "slide_type": "fragment"
      }
     },
     "source": [
      "\n",
      "### Python is an interpreted language!\n"
     ]
    },
    {
     "cell_type": "markdown",
     "metadata": {
      "slideshow": {
       "slide_type": "slide"
      }
     },
     "source": [
      "# How to Run Python Code\n",
      "\n",
      "There are two ways to run Python code: **interactive mode** and **script mode**. \n",
      "\n"
     ]
    },
    {
     "cell_type": "markdown",
     "metadata": {
      "slideshow": {
       "slide_type": "fragment"
      }
     },
     "source": [
      "## Interactive Mode\n",
      "In interactive mode, you type Python programs and the interpreter displays the result:\n",
      "\n",
      "\\>>> 1 + 1\n",
      "\n",
      "2\n",
      "\n",
      "The chevron, >>>, is the **prompt** the interpreter uses to indicate that it is ready.\n"
     ]
    },
    {
     "cell_type": "markdown",
     "metadata": {
      "slideshow": {
       "slide_type": "fragment"
      }
     },
     "source": [
      "## Script Mode\n",
      "In script mode, you store the code in a file that ends with \".py\". \n",
      "\n",
      "Suppose you wrote code in a file called ***first_program.py***. To execute the code in the file, you would type ***python first_program.py*** in a UNIX command window."
     ]
    },
    {
     "cell_type": "markdown",
     "metadata": {
      "slideshow": {
       "slide_type": "fragment"
      }
     },
     "source": [
      "### You should save your code as a script if you are writing anything more than a few lines"
     ]
    },
    {
     "cell_type": "markdown",
     "metadata": {
      "slideshow": {
       "slide_type": "slide"
      }
     },
     "source": [
      "# Try out interactive mode\n"
     ]
    },
    {
     "cell_type": "markdown",
     "metadata": {
      "slideshow": {
       "slide_type": "subslide"
      }
     },
     "source": [
      "###**Available Functions:**\n",
      "- \\+  (addition)\n",
      "- \\-  (subtraction)\n",
      "- \\*  (multiplication) \n",
      "- /  (division)\n",
      "- \\**  (exponentiation) \n",
      "\n",
      "\n",
      "###Order of operations apply. Remember PEMDAS? \n",
      "\n",
      "* What is 5+8/2\\**2? "
     ]
    },
    {
     "cell_type": "code",
     "collapsed": false,
     "input": [
      "5+8/2**2"
     ],
     "language": "python",
     "metadata": {
      "slideshow": {
       "slide_type": "fragment"
      }
     },
     "outputs": [
      {
       "metadata": {},
       "output_type": "pyout",
       "prompt_number": 7,
       "text": [
        "7"
       ]
      }
     ],
     "prompt_number": 7
    },
    {
     "cell_type": "code",
     "collapsed": false,
     "input": [
      "5+(8/(2**2))"
     ],
     "language": "python",
     "metadata": {
      "slideshow": {
       "slide_type": "fragment"
      }
     },
     "outputs": [
      {
       "metadata": {},
       "output_type": "pyout",
       "prompt_number": 8,
       "text": [
        "7"
       ]
      }
     ],
     "prompt_number": 8
    },
    {
     "cell_type": "markdown",
     "metadata": {
      "slideshow": {
       "slide_type": "subslide"
      }
     },
     "source": [
      "###**Available Functions:**\n",
      "- \\+  (addition)\n",
      "- \\-  (subtraction)\n",
      "- \\*  (multiplication) \n",
      "- /  (division)\n",
      "- \\**  (exponentiation) \n",
      "\n",
      "## Problem: \n",
      "\n",
      "You've finished eating at a restaurant, and received this bill:\n",
      "\n",
      "Cost of meal: $44.50\n",
      "Restaurant tax: 6.75%\n",
      "Tip: 15%\n",
      "    \n",
      "You'll apply the tip to the overall cost of the meal (including tax). What is the final total cost?"
     ]
    },
    {
     "cell_type": "code",
     "collapsed": false,
     "input": [
      "(44.50 * 1.0675) * 1.15"
     ],
     "language": "python",
     "metadata": {
      "slideshow": {
       "slide_type": "fragment"
      }
     },
     "outputs": [
      {
       "metadata": {},
       "output_type": "pyout",
       "prompt_number": 14,
       "text": [
        "54.62931249999999"
       ]
      }
     ],
     "prompt_number": 14
    },
    {
     "cell_type": "code",
     "collapsed": false,
     "input": [
      "# New Function: round(number, decimal_places)\n",
      "# How do you get documentation online?\n",
      "\n",
      "round((44.50 * 1.0675) * 1.15)"
     ],
     "language": "python",
     "metadata": {
      "slideshow": {
       "slide_type": "fragment"
      }
     },
     "outputs": [
      {
       "metadata": {},
       "output_type": "pyout",
       "prompt_number": 2,
       "text": [
        "55.0"
       ]
      }
     ],
     "prompt_number": 2
    },
    {
     "cell_type": "markdown",
     "metadata": {
      "slideshow": {
       "slide_type": "subslide"
      }
     },
     "source": [
      "###**Available Functions:**\n",
      "- \\+  (addition)\n",
      "- \\-  (subtraction)\n",
      "- \\*  (multiplication) \n",
      "- /  (division)\n",
      "- \\**  (exponentiation) \n",
      "- % (modulo) ** \\*NEW\\***\n",
      "\n",
      "**Definition:** Modulo returns the remainder from a division.\n",
      "\n",
      "* If you type 3 % 2, it will return 1, because 2 goes into 3 evenly once, with 1 left over.\n",
      "* Note, x % y = x if x < y. For example, 6 % 10 = 6\n",
      "\n",
      "**Question 1:** What is 28 % 5?\n",
      "\n",
      "**Question 2:** How we would check if a number is odd using modulo?\n"
     ]
    },
    {
     "cell_type": "markdown",
     "metadata": {},
     "source": [
      "##Extra Questions\n",
      "\n",
      "* Try 5/2. What do you get as an answer? What about 5.0/2? \n",
      "\n",
      "Do some experimentation and see what's going on. "
     ]
    },
    {
     "cell_type": "markdown",
     "metadata": {
      "slideshow": {
       "slide_type": "slide"
      }
     },
     "source": [
      "# What is a program?\n",
      "\n",
      "A **program** is a sequence of instructions that specifies how to perform a computation.\n",
      "\n",
      "Examples of what a program might do: \n",
      "\n",
      "* To help you out in math class ...\n",
      "* At the New York Times ...\n",
      "* At Etsy ...\n",
      "* At Google ..."
     ]
    },
    {
     "cell_type": "markdown",
     "metadata": {
      "slideshow": {
       "slide_type": "subslide"
      }
     },
     "source": [
      "## What makes up a program?\n",
      "\n",
      "A few basic instructions appear in just about every language:\n",
      "\n",
      "* **input**: Get data from the keyboard, a file, or some other device.\n",
      "* **output**: Display data on the screen or send data to a file or other device.\n",
      "* **math**: Perform basic mathematical operations like addition and multiplication. \n",
      "* **conditional execution**: Check for certain conditions and execute the appropriate code. \n",
      "* **repetition**: Perform some action repeatedly, usually with some variation."
     ]
    },
    {
     "cell_type": "markdown",
     "metadata": {
      "slideshow": {
       "slide_type": "fragment"
      }
     },
     "source": [
      "## And that's basically it!"
     ]
    },
    {
     "cell_type": "markdown",
     "metadata": {
      "slideshow": {
       "slide_type": "skip"
      }
     },
     "source": [
      "# Your first program"
     ]
    },
    {
     "cell_type": "markdown",
     "metadata": {
      "slideshow": {
       "slide_type": "slide"
      }
     },
     "source": [
      "# Debugging\n",
      "\n",
      "Programmers make errors *all the time*.\n",
      "\n",
      "Programming errors are called **bugs** and the process of finding them is called **debugging**. \n",
      "\n",
      "\n",
      "![Computer Bug](http://upload.wikimedia.org/wikipedia/commons/8/8a/H96566k.jpg)"
     ]
    },
    {
     "cell_type": "markdown",
     "metadata": {
      "slideshow": {
       "slide_type": "skip"
      }
     },
     "source": [
      "# Runtime Errors\n",
      "\n",
      "**Runtime Errors** do not appear until after the program has started running. \n",
      "\n",
      "* These errors are also called **exceptions** because they usually indicate that something exceptional (and bad) has happened.\n",
      "* **Example**: During the execution of a program, you ask the computer to do 8/0"
     ]
    },
    {
     "cell_type": "markdown",
     "metadata": {
      "slideshow": {
       "slide_type": "skip"
      }
     },
     "source": [
      "## Semantic Errors\n",
      "\n",
      "If your program has **semantic errors**, you will be able to run it without getting any error messages, but it will not do the right thing. It will do something else.\n",
      "\n",
      "* English can be semantically ambiguous:\n",
      "    * \"Children make nutritious snacks.\"\n",
      "    * \"The thief was sentenced to six months in the violin case.\"\n",
      "    \n",
      "    \n",
      "* Or semantically nonsense:\n",
      "    * \"Colourless green ideas sleep furiously.\"\n"
     ]
    },
    {
     "cell_type": "markdown",
     "metadata": {
      "slideshow": {
       "slide_type": "skip"
      }
     },
     "source": [
      "# Formal and natural languages"
     ]
    },
    {
     "cell_type": "markdown",
     "metadata": {
      "slideshow": {
       "slide_type": "slide"
      }
     },
     "source": [
      "#Values \n",
      "\n",
      "A **value** is one of the basic things a program works with, like a letter or a number. For example: 1, 2, and 'Hello, World!'.\n",
      "\n",
      "These values belong to different **types**:\n",
      "\n",
      "* **Integer**\n",
      "* **String**\n",
      "* **Float**\n",
      "\n",
      "You have already seen integers and strings: \n",
      "\n",
      "* 2 is an **integer**\n",
      "* 'Hello, World!' is a **string**."
     ]
    },
    {
     "cell_type": "markdown",
     "metadata": {
      "slideshow": {
       "slide_type": "subslide"
      }
     },
     "source": [
      "### You can check what type a value is by using the type function. "
     ]
    },
    {
     "cell_type": "code",
     "collapsed": false,
     "input": [
      "type('Hello, World!')"
     ],
     "language": "python",
     "metadata": {
      "slideshow": {
       "slide_type": "fragment"
      }
     },
     "outputs": [
      {
       "metadata": {},
       "output_type": "pyout",
       "prompt_number": 3,
       "text": [
        "str"
       ]
      }
     ],
     "prompt_number": 3
    },
    {
     "cell_type": "code",
     "collapsed": false,
     "input": [
      "type(5)"
     ],
     "language": "python",
     "metadata": {
      "slideshow": {
       "slide_type": "fragment"
      }
     },
     "outputs": [
      {
       "metadata": {},
       "output_type": "pyout",
       "prompt_number": 4,
       "text": [
        "int"
       ]
      }
     ],
     "prompt_number": 4
    },
    {
     "cell_type": "markdown",
     "metadata": {
      "slideshow": {
       "slide_type": "fragment"
      }
     },
     "source": [
      "Less obviously, numbers with a decimal point belong to a type called **float**."
     ]
    },
    {
     "cell_type": "code",
     "collapsed": false,
     "input": [
      "type(5.4)"
     ],
     "language": "python",
     "metadata": {
      "slideshow": {
       "slide_type": "fragment"
      }
     },
     "outputs": [
      {
       "metadata": {},
       "output_type": "pyout",
       "prompt_number": 5,
       "text": [
        "float"
       ]
      }
     ],
     "prompt_number": 5
    },
    {
     "cell_type": "markdown",
     "metadata": {
      "slideshow": {
       "slide_type": "subslide"
      }
     },
     "source": [
      "* **Question 1:** What is type('17')? \n",
      "\n",
      "\n",
      "\n",
      "* **Question 2:** What is type(17)?\n",
      "\n",
      "\n",
      "\n",
      "* **Question 3:** What is type(17.0)?\n",
      "\n",
      "\n",
      "\n",
      "* **Question 4:** What is type (1,000)?"
     ]
    },
    {
     "cell_type": "markdown",
     "metadata": {
      "slideshow": {
       "slide_type": "slide"
      }
     },
     "source": [
      "# Variables\n",
      "\n",
      "A **variable** is a name that refers to a value. "
     ]
    },
    {
     "cell_type": "markdown",
     "metadata": {
      "slideshow": {
       "slide_type": "subslide"
      }
     },
     "source": [
      "An **assignment statement** creates new variables and gives them values:\n",
      "\n",
      "\\>>> message = 'And now for something completely different'\n",
      "\n",
      "\\>>> n = 17\n",
      "\n",
      "\\>>> pi = 3.1415926535897932\n",
      "\n"
     ]
    },
    {
     "cell_type": "markdown",
     "metadata": {
      "slideshow": {
       "slide_type": "fragment"
      }
     },
     "source": [
      "**Note:** The type of a variable is the type of the value it refers to. So, type(pi) is a **float**."
     ]
    },
    {
     "cell_type": "markdown",
     "metadata": {
      "slideshow": {
       "slide_type": "slide"
      }
     },
     "source": [
      "#Practice \n",
      "\n",
      "The volume of a sphere with radius r is 4/3 \u03c0 r<sup>3</sup>. What is the volume of a sphere with radius 5?\n",
      "\n",
      "\n",
      "**\ufffc\ufffcHint:** The variable pi is already in Spyder. "
     ]
    },
    {
     "cell_type": "markdown",
     "metadata": {
      "slideshow": {
       "slide_type": "subslide"
      }
     },
     "source": [
      "# Exploring Variable Names\n",
      "\n",
      "* What happens when you try to use a variable before you assign it a value?\n",
      "\n",
      "\n",
      "* What happens if you try to make a variable that starts with a number? \n",
      "\n",
      "\n",
      "* Are two variables with the same name but different capitalization the same variable?\n",
      "\n",
      "\n",
      "* What does the following code do? \n",
      "\n",
      "`a, b = 1, 2`\n",
      "\n",
      "* What are the final values of x and y? \n",
      "\n",
      "`x = 4`\n",
      "\n",
      "`y = x + 1`\n",
      "\n",
      "`x = 2`\n",
      "\n",
      "* What is the final value of x? \n",
      "\n",
      "`x = 4`\n",
      "\n",
      "`x = x + 1`\n",
      "\n"
     ]
    },
    {
     "cell_type": "markdown",
     "metadata": {
      "slideshow": {
       "slide_type": "subslide"
      }
     },
     "source": [
      "###Challenge Question\n",
      "\n",
      "* If you type an integer with a leading zero, you might get a confusing error:\n",
      "\n",
      "\\>>> zipcode = 02492\n",
      "                  \n",
      "                  \n",
      "**SyntaxError: invalid token**\n",
      "\n",
      "Other numbers seem to work, but the results are bizarre:\n",
      "\n",
      "\\>>> zipcode = 02132\n",
      "\n",
      "\\>>> zipcode\n",
      "\n",
      "1114\n",
      "\n",
      "Can you figure out what is going on? Hint: display the values 01, 010, 0100 and 01000.\n"
     ]
    },
    {
     "cell_type": "markdown",
     "metadata": {
      "slideshow": {
       "slide_type": "subslide"
      }
     },
     "source": [
      "## Syntax Errors\n",
      "\n",
      "* **Syntax** refers to the structure of a program and the rules about that structure.\n",
      "\n",
      "\n",
      "\n",
      "    * **Example:** (1 + 2) is legal, but (1 is not legal\n",
      "    \n",
      "\n",
      "\n",
      "* You can think of syntax like grammar in English. \n",
      "\n",
      "\n",
      "\n",
      "    * **Example:** \"What are you eating?\" is legal but \"What are you eating.\" is not legal\n",
      "    \n",
      "    \n",
      "    \n",
      "### If there is 1 syntax error, Python will give you an error message and quit\n",
      "\n",
      "    "
     ]
    },
    {
     "cell_type": "code",
     "collapsed": false,
     "input": [
      "76ers = 'my favorite team'"
     ],
     "language": "python",
     "metadata": {
      "slideshow": {
       "slide_type": "fragment"
      }
     },
     "outputs": [
      {
       "ename": "SyntaxError",
       "evalue": "invalid token (<ipython-input-10-5a69dcc7bb33>, line 1)",
       "output_type": "pyerr",
       "traceback": [
        "\u001b[0;36m  File \u001b[0;32m\"<ipython-input-10-5a69dcc7bb33>\"\u001b[0;36m, line \u001b[0;32m1\u001b[0m\n\u001b[0;31m    76ers = 'my favorite team'\u001b[0m\n\u001b[0m      ^\u001b[0m\n\u001b[0;31mSyntaxError\u001b[0m\u001b[0;31m:\u001b[0m invalid token\n"
       ]
      }
     ],
     "prompt_number": 10
    },
    {
     "cell_type": "code",
     "collapsed": false,
     "input": [
      "(7 - 4"
     ],
     "language": "python",
     "metadata": {
      "slideshow": {
       "slide_type": "fragment"
      }
     },
     "outputs": [
      {
       "ename": "SyntaxError",
       "evalue": "unexpected EOF while parsing (<ipython-input-11-041fd9286cb7>, line 1)",
       "output_type": "pyerr",
       "traceback": [
        "\u001b[0;36m  File \u001b[0;32m\"<ipython-input-11-041fd9286cb7>\"\u001b[0;36m, line \u001b[0;32m1\u001b[0m\n\u001b[0;31m    (7 - 4\u001b[0m\n\u001b[0m          ^\u001b[0m\n\u001b[0;31mSyntaxError\u001b[0m\u001b[0;31m:\u001b[0m unexpected EOF while parsing\n"
       ]
      }
     ],
     "prompt_number": 11
    },
    {
     "cell_type": "markdown",
     "metadata": {
      "slideshow": {
       "slide_type": "skip"
      }
     },
     "source": [
      "# Division Weirdness\n",
      "\n",
      "\\>>> minute = 59\n",
      "\n",
      "\\>>> minute / 60"
     ]
    },
    {
     "cell_type": "code",
     "collapsed": false,
     "input": [
      "59/60"
     ],
     "language": "python",
     "metadata": {
      "slideshow": {
       "slide_type": "skip"
      }
     },
     "outputs": [
      {
       "metadata": {},
       "output_type": "pyout",
       "prompt_number": 12,
       "text": [
        "0"
       ]
      }
     ],
     "prompt_number": 12
    },
    {
     "cell_type": "markdown",
     "metadata": {
      "slideshow": {
       "slide_type": "skip"
      }
     },
     "source": [
      "Python is performing **floor division**. When both of the operands are integers, the result is also an integer.\n",
      "\n",
      "#### Floor division chops off the fraction part."
     ]
    },
    {
     "cell_type": "markdown",
     "metadata": {
      "slideshow": {
       "slide_type": "slide"
      }
     },
     "source": [
      "## String Operations\n",
      "\n",
      "In general, you cannot perform mathematical operations on strings, even if the string looks like a number. \n",
      "\n",
      "**BAD** \n",
      "\n",
      "* '2'-'1'\n",
      "* 'eggs' / 'easy'\n",
      "* 'third' * 'a charm'\n"
     ]
    },
    {
     "cell_type": "markdown",
     "metadata": {
      "slideshow": {
       "slide_type": "fragment"
      }
     },
     "source": [
      "## But there are a few exceptions...\n",
      "\n",
      "### Addition \n",
      "\n",
      "The + operator works with strings: it performs **concatenation**, which means joining the strings by linking them end-to-end. \n",
      "\n",
      "**For example:**"
     ]
    },
    {
     "cell_type": "code",
     "collapsed": false,
     "input": [
      "first = 'throat'\n",
      "second = 'warbler'\n",
      "print first + second\n"
     ],
     "language": "python",
     "metadata": {
      "slideshow": {
       "slide_type": "fragment"
      }
     },
     "outputs": [
      {
       "output_type": "stream",
       "stream": "stdout",
       "text": [
        "throatwarbler\n"
       ]
      }
     ],
     "prompt_number": 13
    },
    {
     "cell_type": "markdown",
     "metadata": {
      "slideshow": {
       "slide_type": "fragment"
      }
     },
     "source": [
      "**Question:** How could I change the code to print \"throat warbler\""
     ]
    },
    {
     "cell_type": "markdown",
     "metadata": {
      "slideshow": {
       "slide_type": "subslide"
      }
     },
     "source": [
      "### Multiplication \n",
      "\n",
      "The * operator performs repetition on strings.\n",
      "\n",
      "**For example: ** 'Spam' * 3 is 'SpamSpamSpam'.\n",
      "    \n"
     ]
    },
    {
     "cell_type": "markdown",
     "metadata": {
      "slideshow": {
       "slide_type": "slide"
      }
     },
     "source": [
      "## Raw Input\n",
      "\n",
      "It presents a prompt to the user, gets input from the user and returns the data input by the user in a string. \n",
      "\n",
      "\n",
      "`name = raw_input(\"What is your name? \")`"
     ]
    },
    {
     "cell_type": "markdown",
     "metadata": {
      "slideshow": {
       "slide_type": "fragment"
      }
     },
     "source": [
      "### Exercise:\n",
      "\n",
      "Use the above code to ask the user what his or her name is and then print out:\n",
      "\n",
      "\"Welcome to Computer Science -------\"\n",
      "\n"
     ]
    },
    {
     "cell_type": "markdown",
     "metadata": {
      "slideshow": {
       "slide_type": "fragment"
      }
     },
     "source": [
      "### Extra Exercise: \n",
      "\n",
      "Print out:\n",
      "\n",
      "\"I can say your name 3 times: ------ ------ ------\""
     ]
    },
    {
     "cell_type": "markdown",
     "metadata": {
      "slideshow": {
       "slide_type": "slide"
      }
     },
     "source": [
      "# Good Variable Names\n",
      "\n",
      "* Variable names should be as descriptive as possible\n",
      "    * **Good**: days_ate_range, flight_number, car_color\n",
      "    * **Bad**:  days, dRange, temp, data\n",
      "    \n",
      "* The variable name has to be as short as possible.\n",
      "   * **Good**: how_long_does_it_take_to_open_the_door, how_big_is_the_material\n",
      "   * **Bad**:  time_to_open_door, material_size.\n",
      "   \n",
      "* Be consistent\n",
      "\n",
      "### Golden rule: Spend a few minutes thinking about your variable names.\n"
     ]
    },
    {
     "cell_type": "markdown",
     "metadata": {
      "slideshow": {
       "slide_type": "slide"
      }
     },
     "source": [
      "# Comments \n",
      "\n",
      "As programs get bigger and more complicated, they get more difficult to read.\n",
      "\n",
      "For this reason, it is a good idea to add notes to your programs to explain **in English** what the program is doing.\n",
      "\n",
      "These notes are called comments, and they start with the # symbol:\n",
      "\n"
     ]
    },
    {
     "cell_type": "code",
     "collapsed": false,
     "input": [
      "# compute the percentage of the hour that has elapsed\n",
      "minute = 30\n",
      "percentage = (minute * 100) / 60"
     ],
     "language": "python",
     "metadata": {
      "slideshow": {
       "slide_type": "fragment"
      }
     },
     "outputs": [],
     "prompt_number": 17
    },
    {
     "cell_type": "code",
     "collapsed": false,
     "input": [
      "minute = 30\n",
      "percentage = (minute * 100) / 60 # percentage of an hour"
     ],
     "language": "python",
     "metadata": {
      "slideshow": {
       "slide_type": "fragment"
      }
     },
     "outputs": []
    },
    {
     "cell_type": "code",
     "collapsed": false,
     "input": [
      "v = 5     # assign 5 to v [THIS COMMENT IS REDUNDANT]\n",
      "\n",
      "v = 5     # velocity in meters/second. [THIS COMMENT IS USEFUL]"
     ],
     "language": "python",
     "metadata": {
      "slideshow": {
       "slide_type": "subslide"
      }
     },
     "outputs": [],
     "prompt_number": 18
    },
    {
     "cell_type": "markdown",
     "metadata": {},
     "source": [
      "Print out the following diagram using the the fewest \"#\" as possible.\n",
      "\n",
      "```\n",
      "##################################\n",
      "#          #          #          #\n",
      "#          #          #          #\n",
      "#          #          #          #\n",
      "#          #          #          #\n",
      "#          #          #          #\n",
      "##################################\n",
      "#          #          #          #\n",
      "#          #          #          #\n",
      "#          #          #          #\n",
      "#          #          #          #\n",
      "#          #          #          #\n",
      "##################################\n",
      "```"
     ]
    },
    {
     "cell_type": "code",
     "collapsed": false,
     "input": [],
     "language": "python",
     "metadata": {},
     "outputs": []
    }
   ],
   "metadata": {}
  }
 ]
}