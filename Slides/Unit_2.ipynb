{
 "metadata": {
  "name": "Unit_2"
 },
 "nbformat": 3,
 "nbformat_minor": 0,
 "worksheets": [
  {
   "cells": [
    {
     "cell_type": "markdown",
     "metadata": {
      "slideshow": {
       "slide_type": "slide"
      }
     },
     "source": "# Unit 2: Creating Your Own Functions"
    },
    {
     "cell_type": "markdown",
     "metadata": {
      "slideshow": {
       "slide_type": "slide"
      }
     },
     "source": "##Definition\nA **function** is a named sequence of statements that performs a computation.\n\nYou define the function by giving it a name and specifying a sequence of statements. Later, you can \u201ccall\u201d the function by name. \n"
    },
    {
     "cell_type": "code",
     "collapsed": false,
     "input": "type(32)",
     "language": "python",
     "metadata": {
      "slideshow": {
       "slide_type": "fragment"
      }
     },
     "outputs": []
    },
    {
     "cell_type": "markdown",
     "metadata": {
      "slideshow": {
       "slide_type": "fragment"
      }
     },
     "source": "\n#### Some Vocabulary\n\n* The expression in the parenthesis is the **argument**. \n\n* It is common to say that a function **\u201ctakes\u201d an argument** and **\u201creturns\u201d a result**.\n\n* The result is called the **return value**."
    },
    {
     "cell_type": "markdown",
     "metadata": {
      "slideshow": {
       "slide_type": "slide"
      }
     },
     "source": "## A new Function"
    },
    {
     "cell_type": "code",
     "collapsed": false,
     "input": "def print_lyrics():\n    print \"I'm a lumberjack, and I'm okay.\"\n    print \"I sleep all night and I work all day.\"",
     "language": "python",
     "metadata": {
      "slideshow": {
       "slide_type": "fragment"
      }
     },
     "outputs": []
    },
    {
     "cell_type": "markdown",
     "metadata": {
      "slideshow": {
       "slide_type": "fragment"
      }
     },
     "source": "The first line of the function definition is called the **header**; the rest is called the **body**.\n\n\n\nThe header has to end with a colon and the body has to be indented."
    },
    {
     "cell_type": "code",
     "collapsed": false,
     "input": "print print_lyrics",
     "language": "python",
     "metadata": {
      "slideshow": {
       "slide_type": "fragment"
      }
     },
     "outputs": [
      {
       "output_type": "stream",
       "stream": "stdout",
       "text": "<function print_lyrics at 0x1023d6e60>\n"
      }
     ],
     "prompt_number": 19
    },
    {
     "cell_type": "code",
     "collapsed": false,
     "input": "type(print_lyrics)",
     "language": "python",
     "metadata": {
      "slideshow": {
       "slide_type": "fragment"
      }
     },
     "outputs": [
      {
       "metadata": {},
       "output_type": "pyout",
       "prompt_number": 20,
       "text": "function"
      }
     ],
     "prompt_number": 20
    },
    {
     "cell_type": "markdown",
     "metadata": {
      "slideshow": {
       "slide_type": "slide"
      }
     },
     "source": "### Calling Functions"
    },
    {
     "cell_type": "code",
     "collapsed": false,
     "input": "def print_lyrics():\n    print \"I'm a lumberjack, and I'm okay.\"\n    print \"I sleep all night and I work all day.\"\n    \n    \nprint_lyrics()",
     "language": "python",
     "metadata": {
      "slideshow": {
       "slide_type": "fragment"
      }
     },
     "outputs": [
      {
       "output_type": "stream",
       "stream": "stdout",
       "text": "I'm a lumberjack, and I'm okay.\nI sleep all night and I work all day.\n"
      }
     ],
     "prompt_number": 21
    },
    {
     "cell_type": "markdown",
     "metadata": {
      "slideshow": {
       "slide_type": "slide"
      }
     },
     "source": "### We can use our function in another function"
    },
    {
     "cell_type": "code",
     "collapsed": false,
     "input": "def repeat_lyrics():\n    print_lyrics()\n    print_lyrics()",
     "language": "python",
     "metadata": {
      "slideshow": {
       "slide_type": "fragment"
      }
     },
     "outputs": [],
     "prompt_number": 23
    },
    {
     "cell_type": "code",
     "collapsed": false,
     "input": "repeat_lyrics()",
     "language": "python",
     "metadata": {
      "slideshow": {
       "slide_type": "fragment"
      }
     },
     "outputs": [
      {
       "output_type": "stream",
       "stream": "stdout",
       "text": "I'm a lumberjack, and I'm okay.\nI sleep all night and I work all day.\nI'm a lumberjack, and I'm okay.\nI sleep all night and I work all day.\n"
      }
     ],
     "prompt_number": 22
    },
    {
     "cell_type": "code",
     "collapsed": false,
     "input": "def print_lyrics():\n    print \"I'm a lumberjack, and I'm okay.\"\n    print \"I sleep all night and I work all day.\"\n    \n    \ndef repeat_lyrics():\n    print_lyrics()\n    print_lyrics()\n    \n    \nrepeat_lyrics()",
     "language": "python",
     "metadata": {
      "slideshow": {
       "slide_type": "slide"
      }
     },
     "outputs": []
    },
    {
     "cell_type": "markdown",
     "metadata": {
      "slideshow": {
       "slide_type": "fragment"
      }
     },
     "source": "* **Exercise 1.** Move the last line of this program to the top, so the function call appears before the definitions.\n\nRun the program and see what error message you get.\n\n\n\n* **Exercise 2.** Move the function call back to the bottom and move the definition of print_lyrics after the definition of repeat_lyrics.\n\nWhat happens when you run this program?"
    },
    {
     "cell_type": "markdown",
     "metadata": {
      "slideshow": {
       "slide_type": "slide"
      }
     },
     "source": "# Flow of Execution \n\n1. Execution always begins at the first statement of the program.\n\n\n2. Statements are executed one at a time, in order from top to bottom.\n\n\n3. Function definitions do not alter the flow of execution of the program.\n\n**Statements inside the function are not executed until the function is called.**"
    },
    {
     "cell_type": "code",
     "collapsed": false,
     "input": "def print_lyrics():\n    print \"I'm a lumberjack, and I'm okay.\"\n    print \"I sleep all night and I work all day.\"\n    \n    \ndef repeat_lyrics():\n    print_lyrics()\n    print_lyrics()\n    \n    \nrepeat_lyrics()",
     "language": "python",
     "metadata": {
      "slideshow": {
       "slide_type": "fragment"
      }
     },
     "outputs": []
    },
    {
     "cell_type": "markdown",
     "metadata": {
      "slideshow": {
       "slide_type": "slide"
      }
     },
     "source": "# Parameters and Arguments\n\nSome functions we have seen require arguments. For example, type(\"apple\") takes one argument. \n\nInside the function, the arguments are assigned to variables called **parameters**."
    },
    {
     "cell_type": "code",
     "collapsed": false,
     "input": "def print_twice(bruce):\n    print bruce\n    print bruce",
     "language": "python",
     "metadata": {
      "slideshow": {
       "slide_type": "fragment"
      }
     },
     "outputs": []
    },
    {
     "cell_type": "code",
     "collapsed": false,
     "input": "print_twice('Spam')\nprint_twice(17)\nprint_twice(pi)",
     "language": "python",
     "metadata": {
      "slideshow": {
       "slide_type": "fragment"
      }
     },
     "outputs": []
    },
    {
     "cell_type": "markdown",
     "metadata": {
      "slideshow": {
       "slide_type": "slide"
      }
     },
     "source": "# Examaples of Creating Functions"
    },
    {
     "cell_type": "markdown",
     "metadata": {
      "slideshow": {
       "slide_type": "slide"
      }
     },
     "source": "## Cook Sausage\nWrite a function called cook_sausage that takes the number of sausages to cook and prints how long it will take to cook them. Assume that you can cook 10 sausage at a time, and it takes 8 minutes to cook each batch."
    },
    {
     "cell_type": "code",
     "collapsed": false,
     "input": "def cook_sausage(number_of_sausages):\n    batches = number_of_sausages/10.0\n    cook_minutes = batches*8\n    print \"It will take you \" + str(cook_minutes) + \" minutes to cook the sausages\"\n    \ncook_sausage(5)\n",
     "language": "python",
     "metadata": {
      "slideshow": {
       "slide_type": "fragment"
      }
     },
     "outputs": [
      {
       "output_type": "stream",
       "stream": "stdout",
       "text": "It will take you 4.0 minutes to cook the sausages\n"
      }
     ],
     "prompt_number": 19
    },
    {
     "cell_type": "markdown",
     "metadata": {
      "slideshow": {
       "slide_type": "subslide"
      }
     },
     "source": "### Notice how the parts of the description align with the code\n\n\"Write a function called cook_sausage that takes the number of sausages to cook\"\n\n```python\ndef cook_sausage(number_of_sausages):\n```\n\n\"... and prints how long it will take to cook them\"\n\n```python\nprint \"It will take you \" + str(cook_minutes) + \" minutes to cook the sausages\"\n```\n\n\"you can cook 10 sausage at a time, and it takes 8 minutes to cook each batch\"\n\n```python\nbatches = number_of_sausages/10\ncook_minutes = batches*8\n```\n"
    },
    {
     "cell_type": "markdown",
     "metadata": {
      "slideshow": {
       "slide_type": "slide"
      }
     },
     "source": "## Make Oatmeal\nWrite a function called make_oatmeal that takes how many servings of oatmeal to make. It should print how many cups of water and oatmeal is needed, and how long it will take to cook them. It takes 2 cups of water to cook each cup of oatmeal and there is .5 cups of oatmeal in a serving. It takes 3 minutes to cook per cup of oatmeal."
    },
    {
     "cell_type": "code",
     "collapsed": false,
     "input": "def make_oatmeal(servings):\n    oatmeal_cups = servings*.5\n    water_cups = oatmeal_cups*2\n    cook_minutes = oatmeal_cups*3\n    print \"You will need \" + str(oatmeal_cups) + \" cups of oats and \" + str(water_cups) + \" cups of water.\"\n    print \"It will take you \" + str(cook_minutes) + \" minutes to cook it.\"\n    \nmake_oatmeal(5)\n",
     "language": "python",
     "metadata": {
      "slideshow": {
       "slide_type": "fragment"
      }
     },
     "outputs": [
      {
       "output_type": "stream",
       "stream": "stdout",
       "text": "You will need 2.5 cups of oats and 5.0 cups of water.\nIt will take you 7.5 minutes to cook it.\n"
      }
     ],
     "prompt_number": 18
    },
    {
     "cell_type": "markdown",
     "metadata": {
      "slideshow": {
       "slide_type": "subslide"
      }
     },
     "source": "### Notice how the parts of the description align with the code\n\n\"Write a function called make_oatmeal that takes how many servings of oatmeal to make\"\n\n```python\ndef make_oatmeal(servings):\n```\n\n\"It should print how many cups of water and oatmeal is needed\"\n\n```python\nprint \"You will need \" + str(oatmeal_cups) + \" cups of oats and \" + str(water_cups) + \" cups of water.\"\n```\n\n\"... and how long it will take to cook them\"\n\n```python\nprint \"It will take you \" + str(cook_minutes) + \" minutes to cook it.\"\n```\n\n\"It takes 2 cups of water to cook each cup of oatmeal and there is .5 cups of oatmeal in a serving\"\n\n```python\noatmeal_cups = servings*.5\nwater_cups = oatmeal_cups*2\n```\n\n\"It takes 3 minutes to cook per cup of oatmeal\"\n\n```python\ncook_minutes = oatmeal_cups*3\n```\n"
    },
    {
     "cell_type": "markdown",
     "metadata": {
      "slideshow": {
       "slide_type": "slide"
      }
     },
     "source": "## Cook Bacon\nWrite a function called cook_bacon that takes the number of slices to cook and how long the slices are in inches. It should print how long it will take to cook them. Assume that you can cook 15 inches of bacon at a time, and it takes 4 minutes to cook each batch."
    },
    {
     "cell_type": "code",
     "collapsed": false,
     "input": "def cook_bacon(number_of_slices, length_of_bacon):\n    total_bacon = number_of_slices * length_of_bacon\n    batches = total_bacon/15.0\n    bacon_time = batches*4\n    print \"It will take you \" + str(bacon_time) + \" minutes to cook the bacon\"\n\ncook_bacon(6, 5)",
     "language": "python",
     "metadata": {
      "slideshow": {
       "slide_type": "fragment"
      }
     },
     "outputs": [
      {
       "output_type": "stream",
       "stream": "stdout",
       "text": "It will take you 8.0 minutes to cook the bacon\n"
      }
     ],
     "prompt_number": 14
    },
    {
     "cell_type": "markdown",
     "metadata": {
      "slideshow": {
       "slide_type": "subslide"
      }
     },
     "source": "### Notice how the parts of the description align with the code\n\n\"Write a function called cook_bacon that takes the number of slices to cook **and** how long the slices are in inches\"\n\n```python\ndef cook_bacon(number_of_slices, length_of_bacon):\n```\n\n\"It should print how long it will take to cook them\"\n\n```python\nprint \"It will take you \" + str(bacon_time) + \" minutes to cook the bacon\"\n```\n\n\"you can cook 15 inches of bacon at a time, and it takes 4 minutes to cook each batch.\"\n\n```python\nbatches = total_bacon/15.0\nbacon_time = batches*4\n```"
    },
    {
     "cell_type": "markdown",
     "metadata": {
      "slideshow": {
       "slide_type": "slide"
      }
     },
     "source": "## Yogurt Parfait\nWrite a function called make_yogurt_parfait that takes how many parfaits to make and what kind of fruit to use. It should print the number cups of yogurt needed for the parfait and how many cups of fruit are needed. You need .75 cups of yogurt and .25 cups of fruit for each parfait."
    },
    {
     "cell_type": "code",
     "collapsed": false,
     "input": "def make_yogurt_parfait(parfaits, fruit):\n    yogurt_cups = parfaits*.75\n    fruit_cups = parfaits*.25\n    print \"You need \" + str(yogurt_cups) + \" cups of yogurt, and \" + str(fruit_cups) + \" cups of \" + fruit\n    \n    \nmake_yogurt_parfait(3, \"blueberries\")",
     "language": "python",
     "metadata": {
      "slideshow": {
       "slide_type": "fragment"
      }
     },
     "outputs": [
      {
       "output_type": "stream",
       "stream": "stdout",
       "text": "You need 2.25 cups of yogurt, and 0.75 cups of blueberries\n"
      }
     ],
     "prompt_number": 17
    },
    {
     "cell_type": "markdown",
     "metadata": {
      "slideshow": {
       "slide_type": "fragment"
      }
     },
     "source": "### What parts of the code match these parts of the description? \n\n* \"Write a function called make_yogurt_parfait that takes how many parfaits to make and what kind of fruit to use.\"  \n* \"It should print the number cups of yogurt needed for the parfait and how many cups of fruit are needed.\"  \n* \"You need .75 cups of yogurt and .25 cups of fruit for each parfait.\""
    }
   ],
   "metadata": {}
  }
 ]
}