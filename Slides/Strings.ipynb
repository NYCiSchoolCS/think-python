{
 "metadata": {
  "name": ""
 },
 "nbformat": 3,
 "nbformat_minor": 0,
 "worksheets": [
  {
   "cells": [
    {
     "cell_type": "markdown",
     "metadata": {},
     "source": [
      "## Strings\n",
      "\n",
      "* A string is a sequence of characters.\n",
      "\n",
      "\n",
      "* You can access the characters one at a time using the bracket operator\n",
      "\n",
      "\n",
      "* The number in the bracket is called the **index**\n"
     ]
    },
    {
     "cell_type": "code",
     "collapsed": false,
     "input": [
      "animal = \"giraffe\"\n",
      "print animal[3]"
     ],
     "language": "python",
     "metadata": {},
     "outputs": []
    },
    {
     "cell_type": "markdown",
     "metadata": {},
     "source": [
      "## Exercise 1: \n",
      "\n",
      "1. Print the e from \"giraffe\"\n",
      "\n",
      "\n",
      "2. Print the letter at index 3\n",
      "\n",
      "\n",
      "3. Print the letter at index 0\n",
      "\n",
      "\n",
      "**What is the index of the first character in a string?**\n",
      "\n"
     ]
    },
    {
     "cell_type": "code",
     "collapsed": false,
     "input": [
      "# Exercise 1 \n",
      "animal = \"giraffe\"\n",
      "\n"
     ],
     "language": "python",
     "metadata": {},
     "outputs": []
    },
    {
     "cell_type": "markdown",
     "metadata": {},
     "source": [
      "## What can you use as an index?\n",
      "\n",
      "* You can use any expression, including variables and operators, as an index\n",
      "\n",
      "\n",
      "* The value of the index has to be an integer.\n"
     ]
    },
    {
     "cell_type": "markdown",
     "metadata": {},
     "source": [
      "## Exercise 2\n",
      "\n",
      "1. Try to use an index that is not an integer\n",
      "\n",
      "\n",
      "2. Try to use an index that includes a variable"
     ]
    },
    {
     "cell_type": "code",
     "collapsed": false,
     "input": [
      "## Exercise 2\n",
      "animal = \"giraffe\"\n",
      "\n"
     ],
     "language": "python",
     "metadata": {},
     "outputs": []
    },
    {
     "cell_type": "markdown",
     "metadata": {},
     "source": [
      "## Getting the length of a string\n",
      "\n",
      "```len``` is a built-in function that returns the number of characters in a string"
     ]
    },
    {
     "cell_type": "code",
     "collapsed": false,
     "input": [
      "animal = \"giraffe\"\n",
      "len(animal)"
     ],
     "language": "python",
     "metadata": {},
     "outputs": []
    },
    {
     "cell_type": "markdown",
     "metadata": {},
     "source": [
      "You might be tempted to try something like this to get the last letter of a string:"
     ]
    },
    {
     "cell_type": "code",
     "collapsed": false,
     "input": [
      "length = len(animal)\n",
      "last = animal[length]"
     ],
     "language": "python",
     "metadata": {},
     "outputs": []
    },
    {
     "cell_type": "markdown",
     "metadata": {},
     "source": [
      "##Questions:\n",
      "\n",
      "* Why do we get a \"string index out of range error\"\n",
      "\n",
      "\n",
      "* How do we fix the above code?\n",
      "    "
     ]
    },
    {
     "cell_type": "code",
     "collapsed": false,
     "input": [
      "## Fix this code so it prints the last letter of animal\n",
      "\n",
      "length = len(animal)\n",
      "last = animal[length]"
     ],
     "language": "python",
     "metadata": {},
     "outputs": []
    },
    {
     "cell_type": "markdown",
     "metadata": {},
     "source": [
      "**Note:** Alternatively, you can access the last character of a string by setting the index to -1"
     ]
    },
    {
     "cell_type": "markdown",
     "metadata": {},
     "source": [
      "## Traversal with ```for``` loop"
     ]
    },
    {
     "cell_type": "markdown",
     "metadata": {},
     "source": [
      "A lot of computations involve processing a string one character at a time. Often they start at the beginning, select each character in turn, do something to it, and continue until the end. This pattern of processing is called a **traversal**. "
     ]
    },
    {
     "cell_type": "markdown",
     "metadata": {},
     "source": [
      "We can use a ```for``` loop to traverse a string like this: "
     ]
    },
    {
     "cell_type": "code",
     "collapsed": false,
     "input": [
      "fruit = \"banana\"\n",
      "\n",
      "for char in fruit:\n",
      "        print char"
     ],
     "language": "python",
     "metadata": {},
     "outputs": []
    },
    {
     "cell_type": "markdown",
     "metadata": {},
     "source": [
      "**Diagram of Indices:**\n",
      "\n",
      "\n",
      "<img src=\"data:image/jpeg;base64,/9j/4AAQSkZJRgABAQAAAQABAAD/2wCEAAkGBhISERIUEhQWFBUVGRUTFhcYGRUWFRUcGBcYHR8fHhUZHSYfIhknGxwXHzEgLzMrLCwtFh4xNzw2NSYrOC4BCQoKBQUFDQUFDSkYEhgpKSkpKSkpKSkpKSkpKSkpKSkpKSkpKSkpKSkpKSkpKSkpKSkpKSkpKSkpKSkpKSkpKf/AABEIADgA3AMBIgACEQEDEQH/xAAbAAACAgMBAAAAAAAAAAAAAAAABAUGAQMHAv/EAEMQAAEDAgIGBggDBAoDAAAAAAECAxEABBIhBQYTIjFBFCMyUpPTBxYzUVRhlNIkNEJzdLO0FTVDYmNxcoGywhdTof/EABQBAQAAAAAAAAAAAAAAAAAAAAD/xAAUEQEAAAAAAAAAAAAAAAAAAAAA/9oADAMBAAIRAxEAPwC6as6s2arKzKrW2UTb26iSwySSWUEkkpkkmTNSfqtZfCWv07H2Uaq/kbL92tv4KKzp/TyLRtC14TjWlpIUtDQlQJkrWYAABoMeq1l8Ja/TsfZR6rWXwlr9Ox9lMWumbdxa223mlrRONKVoUpOEwcSQZEEgGeBMUsrWa2DjbZdbl1WFohxBC+rQscDlIWmB+rEkjtCgz6rWXwlr9Ox9lHqtZfCWv07H2VJzRNBGeq1l8Ja/TsfZR6rWXwlr9Ox9lSRcAiSBOQz4n3D516IoIv1WsvhLX6dj7KXe1Xstq0OisiQ5kLZgtmAntq2eRH6cxJJ4xSmselbpq+sENZMPC5Du6gypDKlozIxDME5ZGsaj6SuX7SyduyvauJeWcKUJbUMW4VhIhJwYcPCSVTQSnqtZfCWv07H2VlOqtlI/B2vgMfZSGm9ZBbXjKXXEt25t7h1wqA7SFtJTBjFO+QEjiSBBMVIaB1ktrwKVbOpdCFBKslJKScxKVgKAI5xBgxwNApo3ViyLTZ6KyrdGbtswlw/6k7MQr5QKZ9VrL4S1+nY+ym9GmWm83DujN0Q6f9QgQr/aoP8A8j6M2uy6W3jx7Pg5gxTEbXBs4nnMfOgZudV7LE1+FYErI3bZgpPVOGFnZmEZTOW8lsc4LHqtZfCWv07H2U5dHeazcG+ewJSeqdycyyb5zlvhsc4OjSenLe3KA+4lvHtCnFMHZIxrziBCc84nlJoNXqtZfCWv07H2UvZar2RSfwrB33Rv2zAVk6sQBsxuDgk80BJzmTu0HrVaXmPozyXSiMQAWlQngcK0pMfPhT1kd05rO+97QQrJ1eQyHVjgg80BBzmaBP1WsvhLX6dj7KXvdV7IBH4VkdY0Ny2YUTK05K6sw2eCjySSZFaLz0i6NadW0u6QFoVgWMLqgk+4rSgoEcDnlBmINTV2vdQQVwVtZtwqZWnjkeqP6j3STQKeq1l8Ja/TsfZR6rWXwlr9Ox9lM6Q0sywEF5YbC1htJVMFRSpUExAySoyYAjjSGhNcrK8WpFs+lxaRjKYWlWGYkBaUyJ5iYke8UHm01XsiXfwrJhwjftmABuoyR1YlvmDnmVZ5ZMeq1l8Ja/TsfZTloc3c3D1h7YgDdRkjLNv3HPMqqG0p6QNH2zqmnrlKXEQVJCXV4ZE5lCFAGOXGg2aQ1Xsg2T0VlOaM27ZhS+2ngnZnLkcsklR5UydVbL4O1+nY+ymLm4StnGhailWzUlbMLUQVpgpiQUkcT3So1D6y6Tumr3RiGoDDzy2rjdQf0pKBJ3hwczHuz5UEh6rWXwlr9Ox9lIaOtENO3aGkJbQHUEJQlKEibW3J3UgDjXj0c6VubnR7T13m6srIOFCJSFQk4UgAcD86Ya/MXn7Vv+UtqBrVX8jZfu1t/BRTN/ZlwswY2byHjxzCQoRlz3v/AJS2qv5Gy/drb+CipSgrzOgH29jsltSlF02orC4/EXCHQoJTxUMEEEpn3itOitVnmCwUuNq2ZbxA4wClNk1bqiAd6UFQnLMA1Z6KBS+0cHYlbqIn2brrUzHHZqE8OfDP30r6vI/9139VdeZUrRQVzS+piXkpSHncjPWuXL/KN0bdGFX96ab1c1aTZoKEvXDwzjbulzCDBgAAJGcmYneOcQBMUUBNLvnrWs3P7Th7M5J9off3fnipikrlcP24xLEh7dA3FQlHbM5Efp4ySaCuaeSydNaM2sYtldFmZ9p1cRGU4ccTziM4rataBp5tKDDirNZfG9BCXUbIr5T2/nEcoqU05qnaXhQq5a2ikAhBxOJKJUlWRQoEGUjPjxHAmtugNWra0xC3bw7RSSslS1qXAAAK3CpWEDgJgSffQaru7Q3YOOO7ctoZWpeLduCkJMyQRC4n3VRdK2l8jRDqG7ays7LoziygrcfcVKcQgjCnaxniOPMD3V0HQ8LtWsRU4FIgl1IxrB440kkSeYzqHHoz0bBSbfEkgpwqcfWlM91KlkJI5EQROVBMNZItPaDsdgbv5dftPc3/ANw1Vf1ysG3r/QyHUhadrdrwngS3bhaZHMYkpMcDGdTLej27ZNoy0XEIDqkpSCtwKlm4VhWtairBMqnPeS2OHB250Y244y6tMrYLhaMqGEuIwKyBgynLOY5UEHcoH9MsGM+gvieeVwzGfyqZbeCWXVKLsJNwoleTgCXHCcMRugDcPcCM+de16ObLyXynrUoUyFSrJClBRGGY7SQZicq8aLVibVmtXW3I3xByuHRESdwRhT70JScpig5/o5m7GjibK1tLSydbfdUXnHH3XELQrCVAEDaERxUqJAywxVr1X/q3RvtB1Vj7MZ9lvtf4XePdmtQ9G2jZP4cQcZwbR4tDHMwzjwDMkiAMJgiCBTjWh2bNhppjaNN7diAlS3DvONjCStRIbIABzgCcqCM9IFkh46MbcTiQq/twoHmNm/XrTrSRpXQ0ACE6QSIAEAW6IA9yRJgcBNWK80a26Wi4nEWXEvt5qGFaQoA5ETkpWRkZ1i40W0t1l5SZcY2mzVKhh2qQleQMGUgDOY5UHuyzLntD1hHWcOyjsf4Xu+eOqHq2u5cZU9oy2tmbe4dWtb9046648nEoKU4gGc1TulZiTlvTV30auS/vLVDyhviMO43kjPNGcg5ZqVUU56PtHqcU4bcSpWNScboaUTxlgL2Zk5kYYNBHejz+o7P2g3P7IdZ+ZVwHu7393FVzmq+1oC3sbVaLYOMoKm1binHFglxA3doswDwIBAgqNWA0ATUC1+YvP2rf8pbVPVAtfmLz9q3/ACltQNaN0FfMstNBy1UGm22gS2/JCEBIJh2JgUz0C/79p4b/AJtWGigr3QL/AL9p4b/m0dAv+/aeG/5tWGigr3QL/v2nhv8Am0dAv+/aeG/5tWGigr3QL/v2nhv+bR0C/wC/aeG/5tWGigr3QL/v2nhv+bSdxZX22Z663SYd3A1clC8k9ohyAU8p95irbSz07VuFLAhcpCQUKyEYlRIjlmJk0EP0C/79p4b/AJtAsL/vWnhv+bVhooKloexviw1D1u4MI33GrlLivmoKcBB/zpzoF/37Tw3/ADamNHA7JGJS1mBKlpCVn5lIAAPygUzQVK9sb7GxL1unrDAS1clLnUu7qyHMkRK5MDE2gcSKc6Bf9+08N/zamLmcTUKWN8yEpBChs3MlEgwmYMiN5KRzILNBXjYX/ftPDf8ANpTRljfFCoet19Y/mtq5Ch1zkpALg3EncSeBSlMZRVrNaLGcJlSlb7ua0hJA2ioEADdAhIPNIBzmaCG6Bf8AftPDf82lNJ2N8Eol63R1jOaGrklXWJ3SEuHcV2VE5AEzlVspa+BhMKWnfbzQkKJGMSCCDCSMieQJOVBD9Av+/aeG/wCbR0C/79p4b/m1YaKCpaPsr6Xoet19YZC2rkBG4jdTLmaOcjKVK+dOdAv+/aeG/wCbUxZzLkqWrfMYkhISMKckwBKeJnPMn3UzQVLS1jfBoy9bt5t7zbVypY6xOUJcJg9k/JRnKac6Bf8AetPDf82pjSE4DhUtBlOaEhSu0ORBEEZH3Ak0zQV7oF/37Tw3/NrFhq46FPLecQVurC+rSoJAS022BvKJncn/AHqxUUBRRRQFeXTun/I1iig57onTd4phLwdQlDatGMhhDKAkh9uzLm9xA68hIEYcPPkirWp1XR30XCLu4FvdPm1QhAU04GgcJSk7QBJJQUK3jGWYiiig222vl2GHFtrbulpctksthLeO4Kwdo0Cw4tAITDoVmUiQoQJN91dvi9asOqViUtCVqIGESRmMPEQZEccqKKCRNc91OSz0i3LJTtyi6F6BG1xbVMF4HfxY5AnlMZUUUHQqi9Z7La2rycbje4sktqwKO4rLFEwflnWKKDdoEza2/wCya/4Jp41mig5zoFVq9pPGw4yFIeuitxTyVXd0VJcSW0tJM9GbhOEqnK3SUpjePRqKKCs69usbJtD5bGNZLW3Kk2inUNrUhL5GRbyKgk5FSE8wK26gR/R7GGcPWR2iiNquNmVb2wj2c57PZ0UUFhrnt/cOuaWtXHWn0Jbfdt2AUjZqSq1fxuYhzUpKIE5IbnIkiiig6FVV9JSWlWQQ84hpC37YFbiFONCHkKhaU/pOGDJSnPMiaxRQM6jXKF269mhhCEOuoSq2RgYdCT20J+fZOahiQqCRBqxUUUHNNYlIGknS5sVLC7HYoXtRdqBVBNusKhKArEVAA4oWFwINdLoooCiiig//2Q==\">"
     ]
    },
    {
     "cell_type": "markdown",
     "metadata": {},
     "source": [
      "## Exercise 3:\n",
      "\n",
      "In Robert McCloskey\u2019s book Make Way for Ducklings, the names of the ducklings are Jack, Kack, Lack, Mack, Nack, Ouack, Pack, and Quack. This loop outputs these names in order:"
     ]
    },
    {
     "cell_type": "code",
     "collapsed": false,
     "input": [
      "prefixes = 'JKLMNOPQ'\n",
      "suffix = 'ack'\n",
      "\n",
      "for letter in prefixes:\n",
      "    print letter + suffix"
     ],
     "language": "python",
     "metadata": {},
     "outputs": []
    },
    {
     "cell_type": "markdown",
     "metadata": {},
     "source": [
      "Of course, that\u2019s not quite right because \u201cOuack\u201d and \u201cQuack\u201d are misspelled.\n",
      "\n",
      "**Modify the program to fix this error.**"
     ]
    },
    {
     "cell_type": "code",
     "collapsed": false,
     "input": [
      "# Exercise 3 -- modify this code to fix the misspelling \n",
      "\n",
      "prefixes = 'JKLMNOPQ'\n",
      "suffix = 'ack'\n",
      "\n",
      "for letter in prefixes:\n",
      "    print letter + suffix\n"
     ],
     "language": "python",
     "metadata": {},
     "outputs": []
    },
    {
     "cell_type": "markdown",
     "metadata": {},
     "source": [
      "## String Slices\n",
      "\n",
      "A segment of a string is called a **slice**. Selecting a slice is similar to selecting a character:"
     ]
    },
    {
     "cell_type": "code",
     "collapsed": false,
     "input": [
      "mayor = \"Bill De Blasio\"\n",
      "print mayor[0:5]\n",
      "print mayor[5:15]"
     ],
     "language": "python",
     "metadata": {},
     "outputs": []
    },
    {
     "cell_type": "markdown",
     "metadata": {},
     "source": [
      "* The operator ```[n:m]``` returns the part of the string from the \u201cn-eth\u201d character to the \u201cm-eth\u201d character, including the first but excluding the last. \n",
      "\n",
      "\n",
      "* If you omit the first index (before the colon), the slice starts at the beginning of the string."
     ]
    },
    {
     "cell_type": "code",
     "collapsed": false,
     "input": [
      "print mayor[:5]"
     ],
     "language": "python",
     "metadata": {},
     "outputs": []
    },
    {
     "cell_type": "markdown",
     "metadata": {},
     "source": [
      "\n",
      "*  If you omit the second index, the slice goes to the end of the string."
     ]
    },
    {
     "cell_type": "code",
     "collapsed": false,
     "input": [
      "print mayor[5:]"
     ],
     "language": "python",
     "metadata": {},
     "outputs": []
    },
    {
     "cell_type": "markdown",
     "metadata": {},
     "source": [
      "* If the first index is greater than or equal to the second the result is an empty string, repre- sented by two quotation marks:"
     ]
    },
    {
     "cell_type": "code",
     "collapsed": false,
     "input": [
      "print mayor[4:4]\n",
      "print len(mayor[4:4])"
     ],
     "language": "python",
     "metadata": {},
     "outputs": []
    },
    {
     "cell_type": "markdown",
     "metadata": {},
     "source": [
      "## Looping and Counting\n",
      "\n",
      "The following program counts the number of times the letter a appears in a string:"
     ]
    },
    {
     "cell_type": "code",
     "collapsed": false,
     "input": [
      "word = 'banana'\n",
      "count = 0\n",
      "for letter in word:\n",
      "    if letter == 'a':\n",
      "        count = count + 1\n",
      "print count"
     ],
     "language": "python",
     "metadata": {},
     "outputs": []
    },
    {
     "cell_type": "markdown",
     "metadata": {},
     "source": [
      "The variable count is initialized to 0 and then incremented each time an a is found. When the loop exits, count contains the result\u2014the total number of a\u2019s."
     ]
    },
    {
     "cell_type": "markdown",
     "metadata": {},
     "source": [
      "## Exercise 4:  \n",
      "\n",
      "Encapsulate this code in a function named ```count```, and generalize it so that it accepts the string and the letter as arguments."
     ]
    },
    {
     "cell_type": "code",
     "collapsed": false,
     "input": [
      "# Exercise 4 \n",
      "\n"
     ],
     "language": "python",
     "metadata": {},
     "outputs": []
    },
    {
     "cell_type": "markdown",
     "metadata": {},
     "source": [
      "## String Methods"
     ]
    },
    {
     "cell_type": "markdown",
     "metadata": {},
     "source": [
      "A **method** is similar to a function\u2014it takes arguments and returns a value\u2014but the syntax is different. For example, the method **```upper```** takes a string and returns a new string with all uppercase letters.\n",
      "\n",
      "\n",
      "Instead of the function syntax upper(word), it uses the method syntax **```word.upper()```**."
     ]
    },
    {
     "cell_type": "code",
     "collapsed": false,
     "input": [
      "word = \"jumbo\"\n",
      "yelling_word = word.upper()\n",
      "\n",
      "print yelling_word"
     ],
     "language": "python",
     "metadata": {},
     "outputs": [
      {
       "output_type": "stream",
       "stream": "stdout",
       "text": [
        "JUMBO\n"
       ]
      }
     ],
     "prompt_number": 49
    },
    {
     "cell_type": "markdown",
     "metadata": {},
     "source": [
      "Python also has a method called **```find```** that returns the first index of a character or string in a larger string."
     ]
    },
    {
     "cell_type": "code",
     "collapsed": false,
     "input": [
      "word = 'banana'\n",
      "index = word.find('a')\n",
      "print index"
     ],
     "language": "python",
     "metadata": {},
     "outputs": [
      {
       "output_type": "stream",
       "stream": "stdout",
       "text": [
        "1\n"
       ]
      }
     ],
     "prompt_number": 51
    },
    {
     "cell_type": "code",
     "collapsed": false,
     "input": [
      "word = 'banana'\n",
      "index = word.find('na')\n",
      "print index"
     ],
     "language": "python",
     "metadata": {},
     "outputs": [
      {
       "output_type": "stream",
       "stream": "stdout",
       "text": [
        "2\n"
       ]
      }
     ],
     "prompt_number": 52
    },
    {
     "cell_type": "code",
     "collapsed": false,
     "input": [
      "word = 'banana'\n",
      "index = word.find('zzzz')\n",
      "print index"
     ],
     "language": "python",
     "metadata": {},
     "outputs": [
      {
       "output_type": "stream",
       "stream": "stdout",
       "text": [
        "-1\n"
       ]
      }
     ],
     "prompt_number": 53
    },
    {
     "cell_type": "markdown",
     "metadata": {},
     "source": [
      "## Exercises 5 & 6\n",
      "\n",
      "String Methods Documentatin: https://docs.python.org/2/library/stdtypes.html#string-methods\n",
      "\n",
      "\n",
      "**The documentation uses a syntax that might be confusing. For example, in find(sub[, start[, end]]), the brackets indicate optional arguments. So sub is required, but start is optional, and if you include start, then end is optional.**\n",
      "\n",
      "\n",
      "5.  There is a string method called count that is similar to the function in the previous exercise. Read the documentation of this method and write an invocation that counts the number of as in 'banana'.\n",
      "\n",
      "\n",
      "6. Read the documentation of string methods and experiment with some of them to make sure you understand how they work. strip and replace are particularly useful.\n",
      "\n",
      "\n",
      "\n"
     ]
    },
    {
     "cell_type": "code",
     "collapsed": false,
     "input": [
      "# Exercises 5 & 6 -- use the count method and experiment with other string methods\n",
      "\n",
      "\n",
      "\n"
     ],
     "language": "python",
     "metadata": {},
     "outputs": [],
     "prompt_number": 55
    },
    {
     "cell_type": "markdown",
     "metadata": {},
     "source": [
      "## The ```in``` operator"
     ]
    },
    {
     "cell_type": "markdown",
     "metadata": {},
     "source": [
      "The word **```in```** is a boolean operator that takes two strings and returns ```True``` if the first appears as a substring in the second:"
     ]
    },
    {
     "cell_type": "code",
     "collapsed": false,
     "input": [
      "\"a\" in \"banana\""
     ],
     "language": "python",
     "metadata": {},
     "outputs": [
      {
       "metadata": {},
       "output_type": "pyout",
       "prompt_number": 57,
       "text": [
        "True"
       ]
      }
     ],
     "prompt_number": 57
    },
    {
     "cell_type": "code",
     "collapsed": false,
     "input": [
      "\"zoo\" in \"banana\""
     ],
     "language": "python",
     "metadata": {},
     "outputs": [
      {
       "metadata": {},
       "output_type": "pyout",
       "prompt_number": 59,
       "text": [
        "False"
       ]
      }
     ],
     "prompt_number": 59
    },
    {
     "cell_type": "markdown",
     "metadata": {},
     "source": [
      "For example, the following function prints all the letters from word1 that also appear in word2:"
     ]
    },
    {
     "cell_type": "code",
     "collapsed": false,
     "input": [
      "def in_both(word1, word2):\n",
      "    for letter in word1:\n",
      "        if letter in word2:\n",
      "            print letter"
     ],
     "language": "python",
     "metadata": {},
     "outputs": [],
     "prompt_number": 60
    },
    {
     "cell_type": "code",
     "collapsed": false,
     "input": [
      "in_both(\"apples\", \"oranges\")"
     ],
     "language": "python",
     "metadata": {},
     "outputs": [
      {
       "output_type": "stream",
       "stream": "stdout",
       "text": [
        "a\n",
        "e\n",
        "s\n"
       ]
      }
     ],
     "prompt_number": 61
    }
   ],
   "metadata": {}
  }
 ]
}