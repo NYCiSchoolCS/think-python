{
 "metadata": {
  "name": ""
 },
 "nbformat": 3,
 "nbformat_minor": 0,
 "worksheets": [
  {
   "cells": [
    {
     "cell_type": "heading",
     "level": 1,
     "metadata": {},
     "source": [
      "Unit 1 -- Review Worksheet"
     ]
    },
    {
     "cell_type": "markdown",
     "metadata": {},
     "source": [
      "### 1. What is the output of the following code?\n",
      "\n",
      "\n",
      "*   (6 + (2 ** 3)) / 2\n",
      "\n",
      "\n",
      "*  5 % 3\n",
      "\n",
      "\n",
      "*  \"5\u201d * 5\n",
      "\n",
      "\n",
      "*  \u201cHello\u201d + \u201cWorld\u201d\n",
      "\n",
      "\n"
     ]
    },
    {
     "cell_type": "markdown",
     "metadata": {},
     "source": [
      "### 2. Bagel Store\n",
      "\n",
      "Suppose you own a bagel store and you made a bunch of bagels this morning. You want to figure out how many more bagels you need to make so that you could sell them in bags of a dozen. For example, if you have already made 23 bagels, you would need to make 1 more bagel this morning.\n",
      "\n",
      "Let the variable **current_bagel_count** stores the number of bagels you already made.  Write a program to print out the number of additional bagels you need to make. \n",
      "\n",
      "\n",
      "\n"
     ]
    },
    {
     "cell_type": "markdown",
     "metadata": {},
     "source": [
      "### 3. What is the type of the following values?  \n",
      "\n",
      "* 1.0\n",
      "\n",
      "\n",
      "* \"Welcome to Computer Science Class!\"\n",
      "\n",
      "\n",
      "* 1.48\n",
      "\n",
      "\n",
      "* 90000\n"
     ]
    },
    {
     "cell_type": "markdown",
     "metadata": {},
     "source": [
      "### 4. What does the following program do? "
     ]
    },
    {
     "cell_type": "code",
     "collapsed": false,
     "input": [
      "your_name = raw_input(\"What is your name? \")\n",
      "your_color = raw_input(\"What is your favorite color? \")\n",
      "print \"It is nice to meet you \" + your_name + \".\"\n",
      "print \"My favorite color is also \" + your_color + \".\""
     ],
     "language": "python",
     "metadata": {},
     "outputs": []
    },
    {
     "cell_type": "markdown",
     "metadata": {},
     "source": [
      "### 5. Area of an Equilateral Triangle\n",
      "\n",
      "Write a program that finds the area of an equilateral triangle if all the sides have length 7. Recall the formula for the area of an equilateral triangle, $$Area = \\frac{\\sqrt{3}}{4}x^2$$ where x is the length of a side.\n"
     ]
    },
    {
     "cell_type": "markdown",
     "metadata": {},
     "source": [
      "### 6. Is the following legal code? If not, explain why. \n",
      "\n",
      "* hair_color = \u201cbrown\u201d\n",
      "\n",
      "\n",
      "* 10(3 + 4) \n",
      "\n",
      "\n",
      "* 100balloons = \u201ca lot of balloons\u201d\n",
      "\n",
      "\n",
      "\n"
     ]
    }
   ],
   "metadata": {}
  }
 ]
}