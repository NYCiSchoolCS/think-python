{
 "metadata": {
  "name": ""
 },
 "nbformat": 3,
 "nbformat_minor": 0,
 "worksheets": [
  {
   "cells": [
    {
     "cell_type": "markdown",
     "metadata": {
      "slideshow": {
       "slide_type": "notes"
      }
     },
     "source": [
      "# Conditionals AND Binary\n"
     ]
    },
    {
     "cell_type": "markdown",
     "metadata": {
      "slideshow": {
       "slide_type": "slide"
      }
     },
     "source": [
      "## Do Now "
     ]
    },
    {
     "cell_type": "code",
     "collapsed": false,
     "input": [
      "greeting = \"hello?! \"\n",
      "\n",
      "def yell(words):\n",
      "    all_words = greeting + words\n",
      "    print all_words.upper()\n",
      "\n",
      "yell(\"i'm over here!!\")\n",
      "yell(greeting)\n"
     ],
     "language": "python",
     "metadata": {
      "slideshow": {
       "slide_type": "fragment"
      }
     },
     "outputs": []
    },
    {
     "cell_type": "markdown",
     "metadata": {
      "slideshow": {
       "slide_type": "fragment"
      }
     },
     "source": [
      "### Questions\n",
      "\n",
      "* What are the names of the variables in the above program?\n",
      "* Which variables are local? global? parameters? \n",
      "* What is the output if I run  ``yell(greeting)`` ?\n"
     ]
    },
    {
     "cell_type": "markdown",
     "metadata": {
      "slideshow": {
       "slide_type": "slide"
      }
     },
     "source": [
      "## Binary\n",
      "\n",
      "**Problem: ** Write a function called create_number that takes in 3 parameters and prints the number that is made of all the parameters. \n",
      "\n",
      "For example, create_number(8, 4, 1) should print the **integer** 841. \n",
      "\n"
     ]
    },
    {
     "cell_type": "code",
     "collapsed": false,
     "input": [
      "def create_number(a, b, c):\n",
      "   print a * 100 + b * 10 + c * 1\n",
      "\n",
      "    \n",
      "create_number(9,8,3)"
     ],
     "language": "python",
     "metadata": {
      "slideshow": {
       "slide_type": "fragment"
      }
     },
     "outputs": [
      {
       "output_type": "stream",
       "stream": "stdout",
       "text": [
        "983\n"
       ]
      }
     ],
     "prompt_number": 59
    },
    {
     "cell_type": "markdown",
     "metadata": {
      "slideshow": {
       "slide_type": "slide"
      }
     },
     "source": [
      "### Our number system \n",
      "\n",
      "* 0 - \n",
      "* 1 - o\n",
      "* 2 - oo \n",
      "* 3 - ooo\n",
      "* 4 - oooo\n",
      "* 5 - ooooo\n",
      "* 6 - oooooo\n",
      "* 7 - ooooooo\n",
      "* 8 - oooooooo\n",
      "* 9 - ooooooooo\n"
     ]
    },
    {
     "cell_type": "markdown",
     "metadata": {
      "slideshow": {
       "slide_type": "slide"
      }
     },
     "source": [
      "# Why doesn't our number system look like this? \n",
      "\n",
      "* 0 - \n",
      "* 1 - o\n",
      "* 2 - oo \n",
      "* 3 - ooo\n",
      "* 4 - oooo\n",
      "* 5 - ooooo\n",
      "* 6 - oooooo\n",
      "* 7 - ooooooo\n",
      "* 8 - oooooooo\n",
      "* 9 - ooooooooo\n",
      "* ? - ooooooooooo\n",
      "* & - oooooooooooo\n",
      "* % - ooooooooooooo\n",
      "\n",
      "..."
     ]
    },
    {
     "cell_type": "markdown",
     "metadata": {
      "slideshow": {
       "slide_type": "slide"
      }
     },
     "source": [
      "Our number system is in **base 10**. That means we use 10 symbols to express all the different numbers.\n",
      "\n",
      "### 256 \n",
      "\n",
      "```256 = (2 * 100)  + (5 * 10) + (6 * 1)```\n",
      "\n",
      "\n",
      "```256 = (2 * 10**2)  + (5 * 10**1) + (6 * 10**1)```\n",
      "\n",
      "We say  6 is in the **one's place**, 5 is in the **ten's place** and 4 is in the **hundred's place**. \n"
     ]
    },
    {
     "cell_type": "markdown",
     "metadata": {
      "slideshow": {
       "slide_type": "fragment"
      }
     },
     "source": [
      "Computers use **base 2**. That means they use 2 symbols (0 and 1) to express all the different numbers. \n",
      "\n",
      "Instead of a one's place, ten's place and hundred's place etc., in binary there is a **one's place**, **two's place**, **four's place** etc. \n",
      "\n",
      "* 0 - \n",
      "* 1 - o\n",
      "* ? - oo\n",
      "\n",
      "### Question: how would we write 2 in binary?"
     ]
    },
    {
     "cell_type": "markdown",
     "metadata": {
      "slideshow": {
       "slide_type": "slide"
      }
     },
     "source": [
      "## How would we count in base 2? "
     ]
    },
    {
     "cell_type": "markdown",
     "metadata": {
      "slideshow": {
       "slide_type": "slide"
      }
     },
     "source": [
      "## Exercises\n",
      "\n",
      "* Write 0 through 32 in binary\n",
      "\n",
      "\n",
      "* What is 100101 in base 10? \n",
      "\n",
      "\n",
      "* **Challenge:**  What is 17 in binary? "
     ]
    },
    {
     "cell_type": "markdown",
     "metadata": {
      "slideshow": {
       "slide_type": "slide"
      }
     },
     "source": [
      "# Do Now -- Day 2\n",
      "\n",
      "#### Remember, in binary we have a 1's place, 2's place, 4's place, 8's place etc.\n",
      "\n",
      "\n",
      "1. What is 110 in base 10? \n",
      "\n",
      "\n",
      "2. What is 100111110 in base 10? \n",
      "\n",
      "\n",
      "3. What is 9 in binary? \n",
      "\n",
      "\n",
      "4. What is 87 in binary? \n"
     ]
    },
    {
     "cell_type": "markdown",
     "metadata": {
      "slideshow": {
       "slide_type": "slide"
      }
     },
     "source": [
      "## Boolean Expressions \n",
      "\n",
      "A **boolean expression** is an expression that is either true or false. \n",
      "\n",
      "```python\n",
      ">>> 5 == 5\n",
      "True\n",
      "\n",
      ">>> 5 == 6\n",
      "False\n",
      "```\n",
      "\n",
      "```python\n",
      ">>> type(True)\n",
      "bool\n",
      "\n",
      ">>> type(False)\n",
      "bool\n",
      "```"
     ]
    },
    {
     "cell_type": "markdown",
     "metadata": {
      "slideshow": {
       "slide_type": "slide"
      }
     },
     "source": [
      "The == operator is one of the relational operators; the others are:\n",
      "\n",
      "```python\n",
      "x != y # x is not equal to y\n",
      "x > y # x is greater than y\n",
      "x < y # x is less than y\n",
      "x >= y # x is greater than or equal to y \n",
      "x <= y # x is less than or equal to y\n",
      "```"
     ]
    },
    {
     "cell_type": "markdown",
     "metadata": {
      "slideshow": {
       "slide_type": "fragment"
      }
     },
     "source": [
      "### Note\n",
      "\n",
      "A common error is to use a single equal sign (=) instead of a double equal sign (==).\n",
      "\n",
      "\n",
      "\n",
      "**Remember that = is an assignment operator and == is a relational operator.**\n"
     ]
    },
    {
     "cell_type": "markdown",
     "metadata": {
      "slideshow": {
       "slide_type": "slide"
      }
     },
     "source": [
      "## Logical Operators \n",
      "\n",
      "There are three logical operators: **and**, **or**, and **not**.\n",
      "\n",
      "The meaning of these operators is similar to their meaning in English.\n",
      "\n",
      "#### Note: boolean expressions also follow the parenthesis first rule"
     ]
    },
    {
     "cell_type": "markdown",
     "metadata": {
      "slideshow": {
       "slide_type": "slide"
      }
     },
     "source": [
      "## Stand if the statement is True for you \n",
      "\n",
      "* my name starts with M\n",
      "\n",
      "\n",
      "* my name starts with M **AND** I am wearing jeans\n",
      "\n",
      "\n",
      "* my name starts with M **OR** I am wearing jeans\n",
      "\n",
      "\n",
      "* my name starts with M **OR** my name starts with a vowel **OR** I am wearing jeans\n",
      "\n",
      "\n",
      "* (I am wearing jeans **OR** I am wearing a t-shirt) **AND** my name does **NOT** start with a vowel\n"
     ]
    },
    {
     "cell_type": "markdown",
     "metadata": {
      "slideshow": {
       "slide_type": "slide"
      }
     },
     "source": [
      "## True Table -- Not\n",
      "\n",
      "|  X   | not X | \n",
      "|------|---------|\n",
      "| True  |   ?   | \n",
      "| False |   ?   | \n",
      "\n"
     ]
    },
    {
     "cell_type": "markdown",
     "metadata": {
      "slideshow": {
       "slide_type": "slide"
      }
     },
     "source": [
      "## True Table -- Not\n",
      "\n",
      "|  X   | not X | \n",
      "|------|---------|\n",
      "| True  |   False   | \n",
      "| False |   True   | \n"
     ]
    },
    {
     "cell_type": "markdown",
     "metadata": {
      "slideshow": {
       "slide_type": "slide"
      }
     },
     "source": [
      "## True Table -- OR\n",
      "\n",
      "|  X   | Y    | X AND Y | \n",
      "|------|------|---------|\n",
      "|True  | True |      ?  | \n",
      "|True  | False|     ?   | \n",
      "|False | True |    ?    | \n",
      "|False | False|   ?     | \n",
      "\n",
      "\n"
     ]
    },
    {
     "cell_type": "markdown",
     "metadata": {
      "slideshow": {
       "slide_type": "slide"
      }
     },
     "source": [
      "## True Table -- OR\n",
      "\n",
      "|  X   | Y    | X AND Y | \n",
      "|------|------|---------|\n",
      "|True  | True |     True  | \n",
      "|True  | False|     False   | \n",
      "|False | True |    False    | \n",
      "|False | False|   False     | \n"
     ]
    },
    {
     "cell_type": "markdown",
     "metadata": {
      "slideshow": {
       "slide_type": "slide"
      }
     },
     "source": [
      "## True Table -- AND\n",
      "\n",
      "|  X   | Y    | X OR Y | \n",
      "|------|------|---------|\n",
      "|True  | True |      ?  | \n",
      "|True  | False|     ?   | \n",
      "|False | True |    ?    | \n",
      "|False | False|   ?     | \n"
     ]
    },
    {
     "cell_type": "markdown",
     "metadata": {
      "slideshow": {
       "slide_type": "slide"
      }
     },
     "source": [
      "## True Table -- AND\n",
      "\n",
      "|  X   | Y    | X OR Y | \n",
      "|------|------|---------|\n",
      "|True  | True |      True  | \n",
      "|True  | False|     True   | \n",
      "|False | True |    True   | \n",
      "|False | False|   False | \n",
      "\n"
     ]
    },
    {
     "cell_type": "markdown",
     "metadata": {
      "slideshow": {
       "slide_type": "slide"
      }
     },
     "source": [
      "#### Do Now: Write two boolean expressions for your neighbor to evaluate. Make them hard! \n",
      "\n",
      "\n",
      "|  X   | Y    | X AND Y | X OR Y | \n",
      "|------|------|---------|--------|\n",
      "|True  | True | True  | True   | \n",
      "|True  | False| False | True   | \n",
      "|False | True | False | True   | \n",
      "|False | False| False | False  | \n",
      "\n",
      "\n",
      "\n"
     ]
    },
    {
     "cell_type": "markdown",
     "metadata": {
      "slideshow": {
       "slide_type": "slide"
      }
     },
     "source": [
      "## Programming examples \n",
      "\n",
      "* **x > 0 and x < 10** is **True** only if x is greater than 0 and less than 10.\n",
      "\n",
      "\n",
      "* **n % 2 == 0 or n % 3 == 0** is **True** if the number is divisible by 2 or 3.\n",
      "\n",
      "\n",
      "* **not (x > y)** is **True** x is less than or equal to y.\n"
     ]
    },
    {
     "cell_type": "markdown",
     "metadata": {
      "slideshow": {
       "slide_type": "slide"
      }
     },
     "source": [
      "## Conditional Execution (If statements) \n",
      "\n",
      "``` python \n",
      "if BOOLEAN EXPRESSION: \n",
      "    do something\n",
      "```\n"
     ]
    },
    {
     "cell_type": "markdown",
     "metadata": {
      "slideshow": {
       "slide_type": "slide"
      }
     },
     "source": [
      "### Some examples: \n",
      " \n",
      "* ```python\n",
      "if x > 0:\n",
      "    print \"x is positive\"\n",
      "```\n",
      "\n",
      "\n",
      "* ```python\n",
      "if x % 2 == 0: \n",
      "    print \"x is even\"\n",
      "```\n",
      "\n",
      "* ```python\n",
      "if name == \"Erica\":\n",
      "    print \"You have the best name!\"\n",
      "```\n",
      "\n",
      "* ```python\n",
      "if not name == \"Erica\"\n",
      "   print \"I guess your name is OK too.\"\n",
      "```"
     ]
    },
    {
     "cell_type": "markdown",
     "metadata": {
      "slideshow": {
       "slide_type": "slide"
      }
     },
     "source": [
      "## Write your own \n",
      "\n",
      "```python\n",
      "x = 5\n",
      "y = 3\n",
      "operation = \"add\"\n",
      "\n",
      "# if operation is \"add\", then print the sum of x and y. \n",
      "\n",
      "# if operation is \"subtract\", then print the different of x and y. \n",
      "\n",
      "# if operation is not \"add\" or \"subtract\", then print \"I don't know what to do.\"\n",
      "```"
     ]
    },
    {
     "cell_type": "code",
     "collapsed": false,
     "input": [],
     "language": "python",
     "metadata": {},
     "outputs": []
    }
   ],
   "metadata": {}
  }
 ]
}