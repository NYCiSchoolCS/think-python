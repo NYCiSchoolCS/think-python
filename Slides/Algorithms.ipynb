{
 "metadata": {
  "name": ""
 },
 "nbformat": 3,
 "nbformat_minor": 0,
 "worksheets": [
  {
   "cells": [
    {
     "cell_type": "markdown",
     "metadata": {},
     "source": [
      "# Algorithms"
     ]
    },
    {
     "cell_type": "markdown",
     "metadata": {},
     "source": [
      "An **algorithm** is a set of rules for solving a problem in a finite number of steps. "
     ]
    },
    {
     "cell_type": "markdown",
     "metadata": {},
     "source": [
      "### Algorithm for Erica Getting to iSchool\n",
      "\n",
      "```python\n",
      "walk to closest A/C subway station\n",
      "\n",
      "take the first train to Manhattan\n",
      "\n",
      "if train is an A train:\n",
      "    get off at Canal Street\n",
      "    get on an uptown E or C train \n",
      "    get off at Spring street\n",
      "else if train is a C train:\n",
      "    get off at Spring street\n",
      "else:\n",
      "    take cab\n",
      "\n",
      "walk to iSchool\n",
      "    \n",
      "```"
     ]
    },
    {
     "cell_type": "markdown",
     "metadata": {},
     "source": [
      "### Algorithm for opening a jar\n",
      "\n",
      "```python\n",
      "while jar is not open:\n",
      "    try to open jar\n",
      "    if jar does not open:\n",
      "        bang jar on counter\n",
      "```"
     ]
    },
    {
     "cell_type": "markdown",
     "metadata": {},
     "source": [
      "### Algorithm for trying to fall asleep\n",
      "\n",
      "### Algorithm for doing long division \n",
      "\n",
      "### Algorithm for playing blackjack \n",
      "\n",
      "### Algorithm for writing an SAT essay"
     ]
    },
    {
     "cell_type": "markdown",
     "metadata": {},
     "source": [
      "## Sorting Problem\n",
      "\n",
      "Take a list as input and return the same list with all the items in ascending order\n",
      "\n",
      "**Example**\n",
      "\n",
      "* [7, 3, 1, 8, -4] -> [-4, 1, 3, 7, 8]\n",
      "\n",
      "\n",
      "* ['Carol', 'Rachel', 'Ally', 'Jane'] -> ['Ally', 'Carol', 'Jane', 'Rachel']\n",
      "\n"
     ]
    },
    {
     "cell_type": "markdown",
     "metadata": {},
     "source": [
      "**Does it make sense to sort the list [4, -5, \"pancake\"]?**"
     ]
    },
    {
     "cell_type": "markdown",
     "metadata": {},
     "source": [
      "### Why do we care about sorting? \n",
      "\n",
      "* Fundamental operation in computer science (recall Yahtzee project...)\n",
      "\n",
      "\n",
      "* Google sorts search results by relevancy \n",
      "\n",
      "\n",
      "* iTunes sorts your music\n"
     ]
    },
    {
     "cell_type": "markdown",
     "metadata": {},
     "source": [
      "### Sorting Algorithm: Bubble Sort\n",
      "\n",
      "1. Loop over all the items in the list\n",
      "\n",
      "\n",
      "2. Compare each item with the item to the right\n",
      "\n",
      "\n",
      "3. If two items are in the wrong order, then swap\n",
      "\n",
      "\n",
      "4. Repeat items 1 - 3 until you've looped over the entire list without doing any swaps"
     ]
    }
   ],
   "metadata": {}
  }
 ]
}